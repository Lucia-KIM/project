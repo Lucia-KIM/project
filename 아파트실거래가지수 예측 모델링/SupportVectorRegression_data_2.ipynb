{
 "cells": [
  {
   "cell_type": "code",
   "execution_count": 1,
   "metadata": {},
   "outputs": [],
   "source": [
    "import pandas as pd\n",
    "import numpy as np\n",
    "import matplotlib.pyplot as plt\n",
    "import warnings\n",
    "warnings.filterwarnings(action='ignore')"
   ]
  },
  {
   "cell_type": "code",
   "execution_count": 2,
   "metadata": {},
   "outputs": [
    {
     "data": {
      "text/html": [
       "<div>\n",
       "<style scoped>\n",
       "    .dataframe tbody tr th:only-of-type {\n",
       "        vertical-align: middle;\n",
       "    }\n",
       "\n",
       "    .dataframe tbody tr th {\n",
       "        vertical-align: top;\n",
       "    }\n",
       "\n",
       "    .dataframe thead th {\n",
       "        text-align: right;\n",
       "    }\n",
       "</style>\n",
       "<table border=\"1\" class=\"dataframe\">\n",
       "  <thead>\n",
       "    <tr style=\"text-align: right;\">\n",
       "      <th></th>\n",
       "      <th>date</th>\n",
       "      <th>kosave</th>\n",
       "      <th>kosave_quant</th>\n",
       "      <th>kosave_amt</th>\n",
       "      <th>bc</th>\n",
       "      <th>ar</th>\n",
       "      <th>unsoldapt</th>\n",
       "      <th>tr_bond</th>\n",
       "      <th>loan_apt</th>\n",
       "      <th>cd</th>\n",
       "      <th>...</th>\n",
       "      <th>termdepo</th>\n",
       "      <th>interrate_call</th>\n",
       "      <th>interrate_kb</th>\n",
       "      <th>cpi_jeon</th>\n",
       "      <th>cpi_total</th>\n",
       "      <th>ppi_realestate</th>\n",
       "      <th>ppi_buildlease</th>\n",
       "      <th>cci</th>\n",
       "      <th>cli</th>\n",
       "      <th>SPI</th>\n",
       "    </tr>\n",
       "  </thead>\n",
       "  <tbody>\n",
       "    <tr>\n",
       "      <th>0</th>\n",
       "      <td>2013-01-01</td>\n",
       "      <td>1986.10</td>\n",
       "      <td>495654538</td>\n",
       "      <td>4434353297</td>\n",
       "      <td>144956.7</td>\n",
       "      <td>1567.9</td>\n",
       "      <td>3415</td>\n",
       "      <td>2.75</td>\n",
       "      <td>440.43</td>\n",
       "      <td>2.86</td>\n",
       "      <td>...</td>\n",
       "      <td>883814.7</td>\n",
       "      <td>2.76</td>\n",
       "      <td>2.75</td>\n",
       "      <td>91.412</td>\n",
       "      <td>93.090</td>\n",
       "      <td>96.46</td>\n",
       "      <td>98.10</td>\n",
       "      <td>93.3</td>\n",
       "      <td>89.1</td>\n",
       "      <td>74.48</td>\n",
       "    </tr>\n",
       "    <tr>\n",
       "      <th>1</th>\n",
       "      <td>2013-02-01</td>\n",
       "      <td>1979.85</td>\n",
       "      <td>384608603</td>\n",
       "      <td>3674863781</td>\n",
       "      <td>146954.1</td>\n",
       "      <td>1558.3</td>\n",
       "      <td>3308</td>\n",
       "      <td>2.70</td>\n",
       "      <td>839.76</td>\n",
       "      <td>2.83</td>\n",
       "      <td>...</td>\n",
       "      <td>883161.2</td>\n",
       "      <td>2.75</td>\n",
       "      <td>2.75</td>\n",
       "      <td>91.658</td>\n",
       "      <td>93.318</td>\n",
       "      <td>98.19</td>\n",
       "      <td>98.22</td>\n",
       "      <td>93.6</td>\n",
       "      <td>89.4</td>\n",
       "      <td>74.78</td>\n",
       "    </tr>\n",
       "    <tr>\n",
       "      <th>2</th>\n",
       "      <td>2013-03-01</td>\n",
       "      <td>1990.24</td>\n",
       "      <td>342831485</td>\n",
       "      <td>3830684225</td>\n",
       "      <td>149050.3</td>\n",
       "      <td>1435.2</td>\n",
       "      <td>3168</td>\n",
       "      <td>2.60</td>\n",
       "      <td>940.27</td>\n",
       "      <td>2.81</td>\n",
       "      <td>...</td>\n",
       "      <td>881062.7</td>\n",
       "      <td>2.74</td>\n",
       "      <td>2.75</td>\n",
       "      <td>91.986</td>\n",
       "      <td>93.613</td>\n",
       "      <td>98.22</td>\n",
       "      <td>98.29</td>\n",
       "      <td>94.3</td>\n",
       "      <td>89.7</td>\n",
       "      <td>75.42</td>\n",
       "    </tr>\n",
       "    <tr>\n",
       "      <th>3</th>\n",
       "      <td>2013-04-01</td>\n",
       "      <td>1938.88</td>\n",
       "      <td>349743992</td>\n",
       "      <td>4358558297</td>\n",
       "      <td>155254.8</td>\n",
       "      <td>1408.7</td>\n",
       "      <td>3035</td>\n",
       "      <td>2.55</td>\n",
       "      <td>1745.47</td>\n",
       "      <td>2.80</td>\n",
       "      <td>...</td>\n",
       "      <td>877119.5</td>\n",
       "      <td>2.75</td>\n",
       "      <td>2.75</td>\n",
       "      <td>92.315</td>\n",
       "      <td>93.891</td>\n",
       "      <td>98.05</td>\n",
       "      <td>98.16</td>\n",
       "      <td>95.0</td>\n",
       "      <td>90.1</td>\n",
       "      <td>75.64</td>\n",
       "    </tr>\n",
       "    <tr>\n",
       "      <th>4</th>\n",
       "      <td>2013-05-01</td>\n",
       "      <td>1974.45</td>\n",
       "      <td>313666214</td>\n",
       "      <td>4220941937</td>\n",
       "      <td>160391.1</td>\n",
       "      <td>1382.2</td>\n",
       "      <td>2908</td>\n",
       "      <td>2.59</td>\n",
       "      <td>1869.58</td>\n",
       "      <td>2.72</td>\n",
       "      <td>...</td>\n",
       "      <td>874704.4</td>\n",
       "      <td>2.55</td>\n",
       "      <td>2.50</td>\n",
       "      <td>92.561</td>\n",
       "      <td>94.102</td>\n",
       "      <td>98.57</td>\n",
       "      <td>98.22</td>\n",
       "      <td>95.3</td>\n",
       "      <td>90.4</td>\n",
       "      <td>75.73</td>\n",
       "    </tr>\n",
       "  </tbody>\n",
       "</table>\n",
       "<p>5 rows × 24 columns</p>\n",
       "</div>"
      ],
      "text/plain": [
       "         date   kosave  kosave_quant  kosave_amt        bc      ar  unsoldapt  \\\n",
       "0  2013-01-01  1986.10     495654538  4434353297  144956.7  1567.9       3415   \n",
       "1  2013-02-01  1979.85     384608603  3674863781  146954.1  1558.3       3308   \n",
       "2  2013-03-01  1990.24     342831485  3830684225  149050.3  1435.2       3168   \n",
       "3  2013-04-01  1938.88     349743992  4358558297  155254.8  1408.7       3035   \n",
       "4  2013-05-01  1974.45     313666214  4220941937  160391.1  1382.2       2908   \n",
       "\n",
       "   tr_bond  loan_apt    cd  ...  termdepo  interrate_call  interrate_kb  \\\n",
       "0     2.75    440.43  2.86  ...  883814.7            2.76          2.75   \n",
       "1     2.70    839.76  2.83  ...  883161.2            2.75          2.75   \n",
       "2     2.60    940.27  2.81  ...  881062.7            2.74          2.75   \n",
       "3     2.55   1745.47  2.80  ...  877119.5            2.75          2.75   \n",
       "4     2.59   1869.58  2.72  ...  874704.4            2.55          2.50   \n",
       "\n",
       "   cpi_jeon  cpi_total  ppi_realestate  ppi_buildlease   cci   cli    SPI  \n",
       "0    91.412     93.090           96.46           98.10  93.3  89.1  74.48  \n",
       "1    91.658     93.318           98.19           98.22  93.6  89.4  74.78  \n",
       "2    91.986     93.613           98.22           98.29  94.3  89.7  75.42  \n",
       "3    92.315     93.891           98.05           98.16  95.0  90.1  75.64  \n",
       "4    92.561     94.102           98.57           98.22  95.3  90.4  75.73  \n",
       "\n",
       "[5 rows x 24 columns]"
      ]
     },
     "execution_count": 2,
     "metadata": {},
     "output_type": "execute_result"
    }
   ],
   "source": [
    "df = pd.read_csv('data_2.csv')\n",
    "df.head()"
   ]
  },
  {
   "cell_type": "code",
   "execution_count": 3,
   "metadata": {},
   "outputs": [
    {
     "name": "stdout",
     "output_type": "stream",
     "text": [
      "<class 'pandas.core.frame.DataFrame'>\n",
      "Index: 84 entries, 2013-01-01 to 2019-12-01\n",
      "Data columns (total 23 columns):\n",
      " #   Column            Non-Null Count  Dtype  \n",
      "---  ------            --------------  -----  \n",
      " 0   kosave            84 non-null     float64\n",
      " 1   kosave_quant      84 non-null     int64  \n",
      " 2   kosave_amt        84 non-null     int64  \n",
      " 3   bc                84 non-null     float64\n",
      " 4   ar                84 non-null     float64\n",
      " 5   unsoldapt         84 non-null     int64  \n",
      " 6   tr_bond           84 non-null     float64\n",
      " 7   loan_apt          84 non-null     float64\n",
      " 8   cd                84 non-null     float64\n",
      " 9   houseloan_county  84 non-null     float64\n",
      " 10  houseloan_seoul   84 non-null     float64\n",
      " 11  cash_cur          84 non-null     float64\n",
      " 12  deli_ratio        84 non-null     float64\n",
      " 13  termdepo          84 non-null     float64\n",
      " 14  interrate_call    84 non-null     float64\n",
      " 15  interrate_kb      84 non-null     float64\n",
      " 16  cpi_jeon          84 non-null     float64\n",
      " 17  cpi_total         84 non-null     float64\n",
      " 18  ppi_realestate    84 non-null     float64\n",
      " 19  ppi_buildlease    84 non-null     float64\n",
      " 20  cci               84 non-null     float64\n",
      " 21  cli               84 non-null     float64\n",
      " 22  SPI               84 non-null     float64\n",
      "dtypes: float64(20), int64(3)\n",
      "memory usage: 15.8+ KB\n"
     ]
    }
   ],
   "source": [
    "# 날짜 인덱스 설정\n",
    "df = df.set_index('date')\n",
    "df.info()"
   ]
  },
  {
   "cell_type": "code",
   "execution_count": 4,
   "metadata": {},
   "outputs": [
    {
     "data": {
      "text/plain": [
       "Index(['2013-01-01', '2013-02-01', '2013-03-01', '2013-04-01', '2013-05-01',\n",
       "       '2013-06-01', '2013-07-01', '2013-08-01', '2013-09-01', '2013-10-01',\n",
       "       '2013-11-01', '2013-12-01', '2014-01-01', '2014-02-01', '2014-03-01',\n",
       "       '2014-04-01', '2014-05-01', '2014-06-01', '2014-07-01', '2014-08-01',\n",
       "       '2014-09-01', '2014-10-01', '2014-11-01', '2014-12-01', '2015-01-01',\n",
       "       '2015-02-01', '2015-03-01', '2015-04-01', '2015-05-01', '2015-06-01',\n",
       "       '2015-07-01', '2015-08-01', '2015-09-01', '2015-10-01', '2015-11-01',\n",
       "       '2015-12-01', '2016-01-01', '2016-02-01', '2016-03-01', '2016-04-01',\n",
       "       '2016-05-01', '2016-06-01', '2016-07-01', '2016-08-01', '2016-09-01',\n",
       "       '2016-10-01', '2016-11-01', '2016-12-01', '2017-01-01', '2017-02-01',\n",
       "       '2017-03-01', '2017-04-01', '2017-05-01', '2017-06-01', '2017-07-01',\n",
       "       '2017-08-01', '2017-09-01', '2017-10-01', '2017-11-01', '2017-12-01',\n",
       "       '2018-01-01', '2018-02-01', '2018-03-01', '2018-04-01', '2018-05-01',\n",
       "       '2018-06-01', '2018-07-01', '2018-08-01', '2018-09-01', '2018-10-01',\n",
       "       '2018-11-01', '2018-12-01', '2019-01-01', '2019-02-01', '2019-03-01',\n",
       "       '2019-04-01', '2019-05-01', '2019-06-01', '2019-07-01', '2019-08-01',\n",
       "       '2019-09-01', '2019-10-01', '2019-11-01', '2019-12-01'],\n",
       "      dtype='object', name='date')"
      ]
     },
     "execution_count": 4,
     "metadata": {},
     "output_type": "execute_result"
    }
   ],
   "source": [
    "# 2007.01 ~ 2012.12\n",
    "df.index"
   ]
  },
  {
   "cell_type": "code",
   "execution_count": 5,
   "metadata": {},
   "outputs": [
    {
     "name": "stdout",
     "output_type": "stream",
     "text": [
      "(84, 22)\n",
      "(84,)\n"
     ]
    }
   ],
   "source": [
    "# data, target 나누기\n",
    "X = df.iloc[:, :-1]\n",
    "y = df.SPI\n",
    "print(X.shape)\n",
    "print(y.shape)"
   ]
  },
  {
   "cell_type": "code",
   "execution_count": 6,
   "metadata": {},
   "outputs": [
    {
     "name": "stdout",
     "output_type": "stream",
     "text": [
      "(58, 22) (26, 22) (58,) (26,)\n"
     ]
    }
   ],
   "source": [
    "# train, test 나누기 = 7:3\n",
    "from sklearn.model_selection import train_test_split\n",
    "X_train, X_test, y_train, y_test = train_test_split(X, y, shuffle=False, test_size=0.3, random_state=42)\n",
    "\n",
    "# 데이터 개수 확인\n",
    "print(X_train.shape, X_test.shape, y_train.shape, y_test.shape) "
   ]
  },
  {
   "cell_type": "code",
   "execution_count": null,
   "metadata": {},
   "outputs": [],
   "source": []
  },
  {
   "cell_type": "code",
   "execution_count": 7,
   "metadata": {},
   "outputs": [],
   "source": [
    "from sklearn.svm import SVR\n",
    "from sklearn.model_selection import GridSearchCV\n",
    "from sklearn.model_selection import KFold\n",
    "from sklearn.model_selection import cross_val_score\n",
    "\n",
    "# RMSE, MAE, MAPE, MASE\n",
    "from sklearn.metrics import mean_squared_error, mean_absolute_error\n",
    "# RMSE = np.sqrt(mean_squared_error(y_valid, y_pred))    # root\n",
    "# MAE = mean_absolute_error(y_valid, y_pred)"
   ]
  },
  {
   "cell_type": "code",
   "execution_count": 8,
   "metadata": {},
   "outputs": [],
   "source": [
    "# MAPE\n",
    "def mean_absolute_percentage_error(y_true, y_pred): \n",
    "    y_true, y_pred = np.array(y_true), np.array(y_pred)\n",
    "    return np.mean(np.abs((y_true - y_pred) / y_true)) * 100\n",
    "\n",
    "# MAPE = mean_absolute_percentage_error(y_valid, y_pred)"
   ]
  },
  {
   "cell_type": "code",
   "execution_count": 9,
   "metadata": {},
   "outputs": [],
   "source": [
    "# MASE\n",
    "def mean_absolute_scaled_error(training_series, testing_series, prediction_series):\n",
    "    \"\"\"\n",
    "    Computes the MEAN-ABSOLUTE SCALED ERROR forcast error for univariate time series prediction.\n",
    "    \n",
    "    See \"Another look at measures of forecast accuracy\", Rob J Hyndman\n",
    "    \n",
    "    parameters:\n",
    "        training_series: the series used to train the model, 1d numpy array\n",
    "        testing_series: the test series to predict, 1d numpy array or float\n",
    "        prediction_series: the prediction of testing_series, 1d numpy array (same size as testing_series) or float\n",
    "        absolute: \"squares\" to use sum of squares and root the result, \"absolute\" to use absolute values.\n",
    "    \n",
    "    \"\"\"\n",
    "    n = training_series.shape[0]\n",
    "    d = np.abs(  np.diff( training_series) ).sum()/(n-1)\n",
    "    \n",
    "    errors = np.abs(testing_series - prediction_series )\n",
    "    return errors.mean()/d\n",
    "\n",
    "# MASE = mean_absolute_scaled_error(y_train, y_valid, y_pred)"
   ]
  },
  {
   "cell_type": "code",
   "execution_count": 10,
   "metadata": {},
   "outputs": [],
   "source": [
    "from sklearn.pipeline import Pipeline, make_pipeline\n",
    "from sklearn.model_selection import KFold\n",
    "from sklearn.preprocessing import MinMaxScaler, RobustScaler, StandardScaler"
   ]
  },
  {
   "cell_type": "code",
   "execution_count": 64,
   "metadata": {},
   "outputs": [
    {
     "data": {
      "text/plain": [
       "GridSearchCV(cv=KFold(n_splits=10, random_state=None, shuffle=False),\n",
       "             estimator=Pipeline(steps=[('scaler', RobustScaler()),\n",
       "                                       ('svr', SVR())]),\n",
       "             param_grid={'svr__C': [10, 30, 50, 100],\n",
       "                         'svr__degree': [1, 3, 5, 10],\n",
       "                         'svr__gamma': [0.01, 0.1, 0.2, 0.5, 1, 5],\n",
       "                         'svr__kernel': ('linear', 'ploy', 'rbf')})"
      ]
     },
     "execution_count": 64,
     "metadata": {},
     "output_type": "execute_result"
    }
   ],
   "source": [
    "pipe = Pipeline([(\"scaler\", RobustScaler()),\n",
    "                 (\"svr\", SVR())])\n",
    "\n",
    "param = {'svr__kernel':('linear', 'ploy', 'rbf'), \n",
    "         'svr__C': [10, 30, 50, 100], \n",
    "         'svr__degree': [1,3,5,10],\n",
    "         'svr__gamma': [0.01, 0.1, 0.2, 0.5, 1, 5]}\n",
    "\n",
    "kf = KFold(n_splits=10)\n",
    "grid = GridSearchCV(pipe, param_grid=param, cv=kf)\n",
    "\n",
    "# 점수\n",
    "grid.fit(X_train, y_train)\n",
    "# grid.best_score_"
   ]
  },
  {
   "cell_type": "code",
   "execution_count": 65,
   "metadata": {},
   "outputs": [
    {
     "data": {
      "text/plain": [
       "1.476512523830023"
      ]
     },
     "execution_count": 65,
     "metadata": {},
     "output_type": "execute_result"
    }
   ],
   "source": [
    "RMSE\n",
    "np.sqrt(grid.best_score_*-1)"
   ]
  },
  {
   "cell_type": "code",
   "execution_count": 66,
   "metadata": {},
   "outputs": [
    {
     "data": {
      "text/plain": [
       "-2.180089233026904"
      ]
     },
     "execution_count": 66,
     "metadata": {},
     "output_type": "execute_result"
    }
   ],
   "source": [
    "grid.best_score_"
   ]
  },
  {
   "cell_type": "code",
   "execution_count": 67,
   "metadata": {},
   "outputs": [
    {
     "data": {
      "text/plain": [
       "16.65217354286421"
      ]
     },
     "execution_count": 67,
     "metadata": {},
     "output_type": "execute_result"
    }
   ],
   "source": [
    "#RMSE\n",
    "RMSE = np.sqrt(mean_squared_error(y_test, y_pred))\n",
    "RMSE"
   ]
  },
  {
   "cell_type": "code",
   "execution_count": 68,
   "metadata": {},
   "outputs": [
    {
     "data": {
      "text/plain": [
       "{'svr__C': 100, 'svr__degree': 1, 'svr__gamma': 0.01, 'svr__kernel': 'rbf'}"
      ]
     },
     "execution_count": 68,
     "metadata": {},
     "output_type": "execute_result"
    }
   ],
   "source": [
    "grid.best_params_"
   ]
  },
  {
   "cell_type": "code",
   "execution_count": 69,
   "metadata": {
    "scrolled": true
   },
   "outputs": [
    {
     "data": {
      "text/html": [
       "<div>\n",
       "<style scoped>\n",
       "    .dataframe tbody tr th:only-of-type {\n",
       "        vertical-align: middle;\n",
       "    }\n",
       "\n",
       "    .dataframe tbody tr th {\n",
       "        vertical-align: top;\n",
       "    }\n",
       "\n",
       "    .dataframe thead th {\n",
       "        text-align: right;\n",
       "    }\n",
       "</style>\n",
       "<table border=\"1\" class=\"dataframe\">\n",
       "  <thead>\n",
       "    <tr style=\"text-align: right;\">\n",
       "      <th></th>\n",
       "      <th>0</th>\n",
       "    </tr>\n",
       "  </thead>\n",
       "  <tbody>\n",
       "    <tr>\n",
       "      <th>0</th>\n",
       "      <td>100.684738</td>\n",
       "    </tr>\n",
       "    <tr>\n",
       "      <th>1</th>\n",
       "      <td>99.505298</td>\n",
       "    </tr>\n",
       "    <tr>\n",
       "      <th>2</th>\n",
       "      <td>100.514830</td>\n",
       "    </tr>\n",
       "    <tr>\n",
       "      <th>3</th>\n",
       "      <td>99.349156</td>\n",
       "    </tr>\n",
       "    <tr>\n",
       "      <th>4</th>\n",
       "      <td>99.819072</td>\n",
       "    </tr>\n",
       "    <tr>\n",
       "      <th>5</th>\n",
       "      <td>100.635867</td>\n",
       "    </tr>\n",
       "    <tr>\n",
       "      <th>6</th>\n",
       "      <td>101.009454</td>\n",
       "    </tr>\n",
       "    <tr>\n",
       "      <th>7</th>\n",
       "      <td>100.516215</td>\n",
       "    </tr>\n",
       "    <tr>\n",
       "      <th>8</th>\n",
       "      <td>99.325314</td>\n",
       "    </tr>\n",
       "    <tr>\n",
       "      <th>9</th>\n",
       "      <td>99.441241</td>\n",
       "    </tr>\n",
       "    <tr>\n",
       "      <th>10</th>\n",
       "      <td>100.447565</td>\n",
       "    </tr>\n",
       "    <tr>\n",
       "      <th>11</th>\n",
       "      <td>98.596785</td>\n",
       "    </tr>\n",
       "    <tr>\n",
       "      <th>12</th>\n",
       "      <td>98.096806</td>\n",
       "    </tr>\n",
       "    <tr>\n",
       "      <th>13</th>\n",
       "      <td>97.768444</td>\n",
       "    </tr>\n",
       "    <tr>\n",
       "      <th>14</th>\n",
       "      <td>98.703345</td>\n",
       "    </tr>\n",
       "    <tr>\n",
       "      <th>15</th>\n",
       "      <td>99.441256</td>\n",
       "    </tr>\n",
       "    <tr>\n",
       "      <th>16</th>\n",
       "      <td>98.771566</td>\n",
       "    </tr>\n",
       "    <tr>\n",
       "      <th>17</th>\n",
       "      <td>100.080898</td>\n",
       "    </tr>\n",
       "    <tr>\n",
       "      <th>18</th>\n",
       "      <td>98.234562</td>\n",
       "    </tr>\n",
       "    <tr>\n",
       "      <th>19</th>\n",
       "      <td>99.012204</td>\n",
       "    </tr>\n",
       "    <tr>\n",
       "      <th>20</th>\n",
       "      <td>99.451142</td>\n",
       "    </tr>\n",
       "    <tr>\n",
       "      <th>21</th>\n",
       "      <td>98.378512</td>\n",
       "    </tr>\n",
       "    <tr>\n",
       "      <th>22</th>\n",
       "      <td>100.153439</td>\n",
       "    </tr>\n",
       "    <tr>\n",
       "      <th>23</th>\n",
       "      <td>101.503972</td>\n",
       "    </tr>\n",
       "    <tr>\n",
       "      <th>24</th>\n",
       "      <td>98.999541</td>\n",
       "    </tr>\n",
       "    <tr>\n",
       "      <th>25</th>\n",
       "      <td>98.382407</td>\n",
       "    </tr>\n",
       "  </tbody>\n",
       "</table>\n",
       "</div>"
      ],
      "text/plain": [
       "             0\n",
       "0   100.684738\n",
       "1    99.505298\n",
       "2   100.514830\n",
       "3    99.349156\n",
       "4    99.819072\n",
       "5   100.635867\n",
       "6   101.009454\n",
       "7   100.516215\n",
       "8    99.325314\n",
       "9    99.441241\n",
       "10  100.447565\n",
       "11   98.596785\n",
       "12   98.096806\n",
       "13   97.768444\n",
       "14   98.703345\n",
       "15   99.441256\n",
       "16   98.771566\n",
       "17  100.080898\n",
       "18   98.234562\n",
       "19   99.012204\n",
       "20   99.451142\n",
       "21   98.378512\n",
       "22  100.153439\n",
       "23  101.503972\n",
       "24   98.999541\n",
       "25   98.382407"
      ]
     },
     "execution_count": 69,
     "metadata": {},
     "output_type": "execute_result"
    }
   ],
   "source": [
    "y_pred = grid.predict(X_test).reshape(-1,1)\n",
    "y_pred = pd.DataFrame(y_pred)\n",
    "y_pred"
   ]
  },
  {
   "cell_type": "code",
   "execution_count": 70,
   "metadata": {
    "scrolled": true
   },
   "outputs": [
    {
     "data": {
      "text/html": [
       "<div>\n",
       "<style scoped>\n",
       "    .dataframe tbody tr th:only-of-type {\n",
       "        vertical-align: middle;\n",
       "    }\n",
       "\n",
       "    .dataframe tbody tr th {\n",
       "        vertical-align: top;\n",
       "    }\n",
       "\n",
       "    .dataframe thead th {\n",
       "        text-align: right;\n",
       "    }\n",
       "</style>\n",
       "<table border=\"1\" class=\"dataframe\">\n",
       "  <thead>\n",
       "    <tr style=\"text-align: right;\">\n",
       "      <th></th>\n",
       "      <th>true</th>\n",
       "      <th>predict</th>\n",
       "    </tr>\n",
       "    <tr>\n",
       "      <th>date</th>\n",
       "      <th></th>\n",
       "      <th></th>\n",
       "    </tr>\n",
       "  </thead>\n",
       "  <tbody>\n",
       "    <tr>\n",
       "      <th>2017-11-01</th>\n",
       "      <td>100.00</td>\n",
       "      <td>100.684738</td>\n",
       "    </tr>\n",
       "    <tr>\n",
       "      <th>2017-12-01</th>\n",
       "      <td>100.90</td>\n",
       "      <td>99.505298</td>\n",
       "    </tr>\n",
       "    <tr>\n",
       "      <th>2018-01-01</th>\n",
       "      <td>102.94</td>\n",
       "      <td>100.514830</td>\n",
       "    </tr>\n",
       "    <tr>\n",
       "      <th>2018-02-01</th>\n",
       "      <td>104.85</td>\n",
       "      <td>99.349156</td>\n",
       "    </tr>\n",
       "    <tr>\n",
       "      <th>2018-03-01</th>\n",
       "      <td>106.05</td>\n",
       "      <td>99.819072</td>\n",
       "    </tr>\n",
       "    <tr>\n",
       "      <th>2018-04-01</th>\n",
       "      <td>107.60</td>\n",
       "      <td>100.635867</td>\n",
       "    </tr>\n",
       "    <tr>\n",
       "      <th>2018-05-01</th>\n",
       "      <td>108.00</td>\n",
       "      <td>101.009454</td>\n",
       "    </tr>\n",
       "    <tr>\n",
       "      <th>2018-06-01</th>\n",
       "      <td>108.69</td>\n",
       "      <td>100.516215</td>\n",
       "    </tr>\n",
       "    <tr>\n",
       "      <th>2018-07-01</th>\n",
       "      <td>110.12</td>\n",
       "      <td>99.325314</td>\n",
       "    </tr>\n",
       "    <tr>\n",
       "      <th>2018-08-01</th>\n",
       "      <td>114.66</td>\n",
       "      <td>99.441241</td>\n",
       "    </tr>\n",
       "    <tr>\n",
       "      <th>2018-09-01</th>\n",
       "      <td>121.07</td>\n",
       "      <td>100.447565</td>\n",
       "    </tr>\n",
       "    <tr>\n",
       "      <th>2018-10-01</th>\n",
       "      <td>122.14</td>\n",
       "      <td>98.596785</td>\n",
       "    </tr>\n",
       "    <tr>\n",
       "      <th>2018-11-01</th>\n",
       "      <td>120.33</td>\n",
       "      <td>98.096806</td>\n",
       "    </tr>\n",
       "    <tr>\n",
       "      <th>2018-12-01</th>\n",
       "      <td>118.90</td>\n",
       "      <td>97.768444</td>\n",
       "    </tr>\n",
       "    <tr>\n",
       "      <th>2019-01-01</th>\n",
       "      <td>117.66</td>\n",
       "      <td>98.703345</td>\n",
       "    </tr>\n",
       "    <tr>\n",
       "      <th>2019-02-01</th>\n",
       "      <td>116.63</td>\n",
       "      <td>99.441256</td>\n",
       "    </tr>\n",
       "    <tr>\n",
       "      <th>2019-03-01</th>\n",
       "      <td>115.45</td>\n",
       "      <td>98.771566</td>\n",
       "    </tr>\n",
       "    <tr>\n",
       "      <th>2019-04-01</th>\n",
       "      <td>115.45</td>\n",
       "      <td>100.080898</td>\n",
       "    </tr>\n",
       "    <tr>\n",
       "      <th>2019-05-01</th>\n",
       "      <td>116.42</td>\n",
       "      <td>98.234562</td>\n",
       "    </tr>\n",
       "    <tr>\n",
       "      <th>2019-06-01</th>\n",
       "      <td>118.83</td>\n",
       "      <td>99.012204</td>\n",
       "    </tr>\n",
       "    <tr>\n",
       "      <th>2019-07-01</th>\n",
       "      <td>121.25</td>\n",
       "      <td>99.451142</td>\n",
       "    </tr>\n",
       "    <tr>\n",
       "      <th>2019-08-01</th>\n",
       "      <td>122.84</td>\n",
       "      <td>98.378512</td>\n",
       "    </tr>\n",
       "    <tr>\n",
       "      <th>2019-09-01</th>\n",
       "      <td>124.18</td>\n",
       "      <td>100.153439</td>\n",
       "    </tr>\n",
       "    <tr>\n",
       "      <th>2019-10-01</th>\n",
       "      <td>126.02</td>\n",
       "      <td>101.503972</td>\n",
       "    </tr>\n",
       "    <tr>\n",
       "      <th>2019-11-01</th>\n",
       "      <td>128.35</td>\n",
       "      <td>98.999541</td>\n",
       "    </tr>\n",
       "    <tr>\n",
       "      <th>2019-12-01</th>\n",
       "      <td>130.38</td>\n",
       "      <td>98.382407</td>\n",
       "    </tr>\n",
       "  </tbody>\n",
       "</table>\n",
       "</div>"
      ],
      "text/plain": [
       "              true     predict\n",
       "date                          \n",
       "2017-11-01  100.00  100.684738\n",
       "2017-12-01  100.90   99.505298\n",
       "2018-01-01  102.94  100.514830\n",
       "2018-02-01  104.85   99.349156\n",
       "2018-03-01  106.05   99.819072\n",
       "2018-04-01  107.60  100.635867\n",
       "2018-05-01  108.00  101.009454\n",
       "2018-06-01  108.69  100.516215\n",
       "2018-07-01  110.12   99.325314\n",
       "2018-08-01  114.66   99.441241\n",
       "2018-09-01  121.07  100.447565\n",
       "2018-10-01  122.14   98.596785\n",
       "2018-11-01  120.33   98.096806\n",
       "2018-12-01  118.90   97.768444\n",
       "2019-01-01  117.66   98.703345\n",
       "2019-02-01  116.63   99.441256\n",
       "2019-03-01  115.45   98.771566\n",
       "2019-04-01  115.45  100.080898\n",
       "2019-05-01  116.42   98.234562\n",
       "2019-06-01  118.83   99.012204\n",
       "2019-07-01  121.25   99.451142\n",
       "2019-08-01  122.84   98.378512\n",
       "2019-09-01  124.18  100.153439\n",
       "2019-10-01  126.02  101.503972\n",
       "2019-11-01  128.35   98.999541\n",
       "2019-12-01  130.38   98.382407"
      ]
     },
     "execution_count": 70,
     "metadata": {},
     "output_type": "execute_result"
    }
   ],
   "source": [
    "# 검증 예측\n",
    "a = pd.DataFrame(y_test)\n",
    "a['predict'] = y_pred.values\n",
    "a.rename(columns = {'SPI':'true'}, inplace=True)\n",
    "a"
   ]
  },
  {
   "cell_type": "code",
   "execution_count": 71,
   "metadata": {},
   "outputs": [],
   "source": [
    "# 훈련 예측\n",
    "y_pred_train = grid.predict(X_train).reshape(-1,1)\n",
    "y_pred_train = pd.DataFrame(y_pred_train)"
   ]
  },
  {
   "cell_type": "code",
   "execution_count": 72,
   "metadata": {
    "scrolled": true
   },
   "outputs": [
    {
     "data": {
      "text/html": [
       "<div>\n",
       "<style scoped>\n",
       "    .dataframe tbody tr th:only-of-type {\n",
       "        vertical-align: middle;\n",
       "    }\n",
       "\n",
       "    .dataframe tbody tr th {\n",
       "        vertical-align: top;\n",
       "    }\n",
       "\n",
       "    .dataframe thead th {\n",
       "        text-align: right;\n",
       "    }\n",
       "</style>\n",
       "<table border=\"1\" class=\"dataframe\">\n",
       "  <thead>\n",
       "    <tr style=\"text-align: right;\">\n",
       "      <th></th>\n",
       "      <th>true</th>\n",
       "      <th>predict</th>\n",
       "    </tr>\n",
       "    <tr>\n",
       "      <th>date</th>\n",
       "      <th></th>\n",
       "      <th></th>\n",
       "    </tr>\n",
       "  </thead>\n",
       "  <tbody>\n",
       "    <tr>\n",
       "      <th>2013-01-01</th>\n",
       "      <td>74.48</td>\n",
       "      <td>74.580342</td>\n",
       "    </tr>\n",
       "    <tr>\n",
       "      <th>2013-02-01</th>\n",
       "      <td>74.78</td>\n",
       "      <td>74.679945</td>\n",
       "    </tr>\n",
       "    <tr>\n",
       "      <th>2013-03-01</th>\n",
       "      <td>75.42</td>\n",
       "      <td>75.146361</td>\n",
       "    </tr>\n",
       "    <tr>\n",
       "      <th>2013-04-01</th>\n",
       "      <td>75.64</td>\n",
       "      <td>75.245913</td>\n",
       "    </tr>\n",
       "    <tr>\n",
       "      <th>2013-05-01</th>\n",
       "      <td>75.73</td>\n",
       "      <td>75.829886</td>\n",
       "    </tr>\n",
       "    <tr>\n",
       "      <th>2013-06-01</th>\n",
       "      <td>75.36</td>\n",
       "      <td>75.617204</td>\n",
       "    </tr>\n",
       "    <tr>\n",
       "      <th>2013-07-01</th>\n",
       "      <td>75.30</td>\n",
       "      <td>75.763247</td>\n",
       "    </tr>\n",
       "    <tr>\n",
       "      <th>2013-08-01</th>\n",
       "      <td>75.55</td>\n",
       "      <td>75.650365</td>\n",
       "    </tr>\n",
       "    <tr>\n",
       "      <th>2013-09-01</th>\n",
       "      <td>76.36</td>\n",
       "      <td>76.052111</td>\n",
       "    </tr>\n",
       "    <tr>\n",
       "      <th>2013-10-01</th>\n",
       "      <td>76.59</td>\n",
       "      <td>76.490152</td>\n",
       "    </tr>\n",
       "    <tr>\n",
       "      <th>2013-11-01</th>\n",
       "      <td>76.40</td>\n",
       "      <td>76.363819</td>\n",
       "    </tr>\n",
       "    <tr>\n",
       "      <th>2013-12-01</th>\n",
       "      <td>75.77</td>\n",
       "      <td>76.465937</td>\n",
       "    </tr>\n",
       "    <tr>\n",
       "      <th>2014-01-01</th>\n",
       "      <td>76.69</td>\n",
       "      <td>76.589737</td>\n",
       "    </tr>\n",
       "    <tr>\n",
       "      <th>2014-02-01</th>\n",
       "      <td>77.25</td>\n",
       "      <td>76.869407</td>\n",
       "    </tr>\n",
       "    <tr>\n",
       "      <th>2014-03-01</th>\n",
       "      <td>77.58</td>\n",
       "      <td>77.056310</td>\n",
       "    </tr>\n",
       "    <tr>\n",
       "      <th>2014-04-01</th>\n",
       "      <td>77.31</td>\n",
       "      <td>77.229666</td>\n",
       "    </tr>\n",
       "    <tr>\n",
       "      <th>2014-05-01</th>\n",
       "      <td>77.12</td>\n",
       "      <td>77.219976</td>\n",
       "    </tr>\n",
       "    <tr>\n",
       "      <th>2014-06-01</th>\n",
       "      <td>77.00</td>\n",
       "      <td>77.099983</td>\n",
       "    </tr>\n",
       "    <tr>\n",
       "      <th>2014-07-01</th>\n",
       "      <td>77.30</td>\n",
       "      <td>77.440843</td>\n",
       "    </tr>\n",
       "    <tr>\n",
       "      <th>2014-08-01</th>\n",
       "      <td>78.30</td>\n",
       "      <td>78.199732</td>\n",
       "    </tr>\n",
       "    <tr>\n",
       "      <th>2014-09-01</th>\n",
       "      <td>79.05</td>\n",
       "      <td>78.617872</td>\n",
       "    </tr>\n",
       "    <tr>\n",
       "      <th>2014-10-01</th>\n",
       "      <td>79.42</td>\n",
       "      <td>78.814769</td>\n",
       "    </tr>\n",
       "    <tr>\n",
       "      <th>2014-11-01</th>\n",
       "      <td>79.45</td>\n",
       "      <td>79.550350</td>\n",
       "    </tr>\n",
       "    <tr>\n",
       "      <th>2014-12-01</th>\n",
       "      <td>79.32</td>\n",
       "      <td>79.855238</td>\n",
       "    </tr>\n",
       "    <tr>\n",
       "      <th>2015-01-01</th>\n",
       "      <td>79.78</td>\n",
       "      <td>80.375841</td>\n",
       "    </tr>\n",
       "    <tr>\n",
       "      <th>2015-02-01</th>\n",
       "      <td>80.42</td>\n",
       "      <td>80.320233</td>\n",
       "    </tr>\n",
       "    <tr>\n",
       "      <th>2015-03-01</th>\n",
       "      <td>81.33</td>\n",
       "      <td>81.271644</td>\n",
       "    </tr>\n",
       "    <tr>\n",
       "      <th>2015-04-01</th>\n",
       "      <td>82.05</td>\n",
       "      <td>82.419103</td>\n",
       "    </tr>\n",
       "    <tr>\n",
       "      <th>2015-05-01</th>\n",
       "      <td>82.68</td>\n",
       "      <td>82.780186</td>\n",
       "    </tr>\n",
       "    <tr>\n",
       "      <th>2015-06-01</th>\n",
       "      <td>83.13</td>\n",
       "      <td>83.173473</td>\n",
       "    </tr>\n",
       "    <tr>\n",
       "      <th>2015-07-01</th>\n",
       "      <td>84.14</td>\n",
       "      <td>84.169952</td>\n",
       "    </tr>\n",
       "    <tr>\n",
       "      <th>2015-08-01</th>\n",
       "      <td>84.84</td>\n",
       "      <td>84.650005</td>\n",
       "    </tr>\n",
       "    <tr>\n",
       "      <th>2015-09-01</th>\n",
       "      <td>85.41</td>\n",
       "      <td>85.508645</td>\n",
       "    </tr>\n",
       "    <tr>\n",
       "      <th>2015-10-01</th>\n",
       "      <td>86.00</td>\n",
       "      <td>85.888511</td>\n",
       "    </tr>\n",
       "    <tr>\n",
       "      <th>2015-11-01</th>\n",
       "      <td>86.26</td>\n",
       "      <td>85.936250</td>\n",
       "    </tr>\n",
       "    <tr>\n",
       "      <th>2015-12-01</th>\n",
       "      <td>85.75</td>\n",
       "      <td>85.649924</td>\n",
       "    </tr>\n",
       "    <tr>\n",
       "      <th>2016-01-01</th>\n",
       "      <td>85.63</td>\n",
       "      <td>85.617587</td>\n",
       "    </tr>\n",
       "    <tr>\n",
       "      <th>2016-02-01</th>\n",
       "      <td>85.74</td>\n",
       "      <td>85.709869</td>\n",
       "    </tr>\n",
       "    <tr>\n",
       "      <th>2016-03-01</th>\n",
       "      <td>85.86</td>\n",
       "      <td>86.082712</td>\n",
       "    </tr>\n",
       "    <tr>\n",
       "      <th>2016-04-01</th>\n",
       "      <td>86.26</td>\n",
       "      <td>86.359885</td>\n",
       "    </tr>\n",
       "    <tr>\n",
       "      <th>2016-05-01</th>\n",
       "      <td>86.78</td>\n",
       "      <td>86.684795</td>\n",
       "    </tr>\n",
       "    <tr>\n",
       "      <th>2016-06-01</th>\n",
       "      <td>87.83</td>\n",
       "      <td>87.930104</td>\n",
       "    </tr>\n",
       "    <tr>\n",
       "      <th>2016-07-01</th>\n",
       "      <td>89.18</td>\n",
       "      <td>89.242946</td>\n",
       "    </tr>\n",
       "    <tr>\n",
       "      <th>2016-08-01</th>\n",
       "      <td>90.26</td>\n",
       "      <td>90.159790</td>\n",
       "    </tr>\n",
       "    <tr>\n",
       "      <th>2016-09-01</th>\n",
       "      <td>91.42</td>\n",
       "      <td>90.731809</td>\n",
       "    </tr>\n",
       "    <tr>\n",
       "      <th>2016-10-01</th>\n",
       "      <td>92.47</td>\n",
       "      <td>91.560838</td>\n",
       "    </tr>\n",
       "    <tr>\n",
       "      <th>2016-11-01</th>\n",
       "      <td>92.50</td>\n",
       "      <td>92.074191</td>\n",
       "    </tr>\n",
       "    <tr>\n",
       "      <th>2016-12-01</th>\n",
       "      <td>91.81</td>\n",
       "      <td>91.909625</td>\n",
       "    </tr>\n",
       "    <tr>\n",
       "      <th>2017-01-01</th>\n",
       "      <td>91.56</td>\n",
       "      <td>91.659876</td>\n",
       "    </tr>\n",
       "    <tr>\n",
       "      <th>2017-02-01</th>\n",
       "      <td>91.72</td>\n",
       "      <td>91.765182</td>\n",
       "    </tr>\n",
       "    <tr>\n",
       "      <th>2017-03-01</th>\n",
       "      <td>92.34</td>\n",
       "      <td>92.345241</td>\n",
       "    </tr>\n",
       "    <tr>\n",
       "      <th>2017-04-01</th>\n",
       "      <td>92.56</td>\n",
       "      <td>92.729336</td>\n",
       "    </tr>\n",
       "    <tr>\n",
       "      <th>2017-05-01</th>\n",
       "      <td>93.84</td>\n",
       "      <td>94.886746</td>\n",
       "    </tr>\n",
       "    <tr>\n",
       "      <th>2017-06-01</th>\n",
       "      <td>95.56</td>\n",
       "      <td>96.411133</td>\n",
       "    </tr>\n",
       "    <tr>\n",
       "      <th>2017-07-01</th>\n",
       "      <td>97.86</td>\n",
       "      <td>97.308586</td>\n",
       "    </tr>\n",
       "    <tr>\n",
       "      <th>2017-08-01</th>\n",
       "      <td>98.16</td>\n",
       "      <td>97.061019</td>\n",
       "    </tr>\n",
       "    <tr>\n",
       "      <th>2017-09-01</th>\n",
       "      <td>98.56</td>\n",
       "      <td>97.699919</td>\n",
       "    </tr>\n",
       "    <tr>\n",
       "      <th>2017-10-01</th>\n",
       "      <td>99.52</td>\n",
       "      <td>99.619944</td>\n",
       "    </tr>\n",
       "  </tbody>\n",
       "</table>\n",
       "</div>"
      ],
      "text/plain": [
       "             true    predict\n",
       "date                        \n",
       "2013-01-01  74.48  74.580342\n",
       "2013-02-01  74.78  74.679945\n",
       "2013-03-01  75.42  75.146361\n",
       "2013-04-01  75.64  75.245913\n",
       "2013-05-01  75.73  75.829886\n",
       "2013-06-01  75.36  75.617204\n",
       "2013-07-01  75.30  75.763247\n",
       "2013-08-01  75.55  75.650365\n",
       "2013-09-01  76.36  76.052111\n",
       "2013-10-01  76.59  76.490152\n",
       "2013-11-01  76.40  76.363819\n",
       "2013-12-01  75.77  76.465937\n",
       "2014-01-01  76.69  76.589737\n",
       "2014-02-01  77.25  76.869407\n",
       "2014-03-01  77.58  77.056310\n",
       "2014-04-01  77.31  77.229666\n",
       "2014-05-01  77.12  77.219976\n",
       "2014-06-01  77.00  77.099983\n",
       "2014-07-01  77.30  77.440843\n",
       "2014-08-01  78.30  78.199732\n",
       "2014-09-01  79.05  78.617872\n",
       "2014-10-01  79.42  78.814769\n",
       "2014-11-01  79.45  79.550350\n",
       "2014-12-01  79.32  79.855238\n",
       "2015-01-01  79.78  80.375841\n",
       "2015-02-01  80.42  80.320233\n",
       "2015-03-01  81.33  81.271644\n",
       "2015-04-01  82.05  82.419103\n",
       "2015-05-01  82.68  82.780186\n",
       "2015-06-01  83.13  83.173473\n",
       "2015-07-01  84.14  84.169952\n",
       "2015-08-01  84.84  84.650005\n",
       "2015-09-01  85.41  85.508645\n",
       "2015-10-01  86.00  85.888511\n",
       "2015-11-01  86.26  85.936250\n",
       "2015-12-01  85.75  85.649924\n",
       "2016-01-01  85.63  85.617587\n",
       "2016-02-01  85.74  85.709869\n",
       "2016-03-01  85.86  86.082712\n",
       "2016-04-01  86.26  86.359885\n",
       "2016-05-01  86.78  86.684795\n",
       "2016-06-01  87.83  87.930104\n",
       "2016-07-01  89.18  89.242946\n",
       "2016-08-01  90.26  90.159790\n",
       "2016-09-01  91.42  90.731809\n",
       "2016-10-01  92.47  91.560838\n",
       "2016-11-01  92.50  92.074191\n",
       "2016-12-01  91.81  91.909625\n",
       "2017-01-01  91.56  91.659876\n",
       "2017-02-01  91.72  91.765182\n",
       "2017-03-01  92.34  92.345241\n",
       "2017-04-01  92.56  92.729336\n",
       "2017-05-01  93.84  94.886746\n",
       "2017-06-01  95.56  96.411133\n",
       "2017-07-01  97.86  97.308586\n",
       "2017-08-01  98.16  97.061019\n",
       "2017-09-01  98.56  97.699919\n",
       "2017-10-01  99.52  99.619944"
      ]
     },
     "execution_count": 72,
     "metadata": {},
     "output_type": "execute_result"
    }
   ],
   "source": [
    "b = pd.DataFrame(y_train)\n",
    "b['predict'] = y_pred_train.values\n",
    "b.rename(columns={'SPI':'true'}, inplace=True)\n",
    "b"
   ]
  },
  {
   "cell_type": "code",
   "execution_count": 73,
   "metadata": {
    "scrolled": true
   },
   "outputs": [
    {
     "name": "stdout",
     "output_type": "stream",
     "text": [
      "<class 'pandas.core.frame.DataFrame'>\n",
      "Index: 26 entries, 2017-11-01 to 2019-12-01\n",
      "Data columns (total 2 columns):\n",
      " #   Column   Non-Null Count  Dtype  \n",
      "---  ------   --------------  -----  \n",
      " 0   true     26 non-null     float64\n",
      " 1   predict  26 non-null     float64\n",
      "dtypes: float64(2)\n",
      "memory usage: 624.0+ bytes\n"
     ]
    }
   ],
   "source": [
    "a.info()"
   ]
  },
  {
   "cell_type": "code",
   "execution_count": 74,
   "metadata": {},
   "outputs": [
    {
     "data": {
      "text/plain": [
       "(58, 2)"
      ]
     },
     "execution_count": 74,
     "metadata": {},
     "output_type": "execute_result"
    }
   ],
   "source": [
    "b.shape"
   ]
  },
  {
   "cell_type": "code",
   "execution_count": 75,
   "metadata": {},
   "outputs": [
    {
     "data": {
      "image/png": "[encoded data removed]",
      "text/plain": [
       "<Figure size 648x360 with 1 Axes>"
      ]
     },
     "metadata": {
      "needs_background": "light"
     },
     "output_type": "display_data"
    }
   ],
   "source": [
    "# 시각화\n",
    "fig = plt.figure(figsize=(9,5))\n",
    "grid = fig.add_subplot(1,1,1)\n",
    "grid.plot(b['true'], label='train_true')\n",
    "grid.plot(b['predict'], label='train_predict')\n",
    "grid.plot(a['true'], label='test_true')\n",
    "grid.plot(a['predict'], label='test_predict')\n",
    "\n",
    "grid.set_title('SVR with RBF kernel')\n",
    "plt.xticks(np.arange(0, 84, 12),\n",
    "           labels=['2013-01', '2014-01', '2015-01','2016-01','2017-01', '2018-01', '2019-01'])\n",
    "grid.set_xlabel('Date', fontsize=10)\n",
    "grid.set_ylabel('SPI',fontsize=10)\n",
    "# plt.xticks(fontsize=13, rotation=70, )\n",
    "grid.legend(loc='upper left')\n",
    "\n",
    "# fig.autofmt_xdate()\n",
    "plt.tight_layout()\n",
    "\n",
    "plt.show()"
   ]
  },
  {
   "cell_type": "markdown",
   "metadata": {},
   "source": [
    "### pipeline 안 쓰기"
   ]
  },
  {
   "cell_type": "code",
   "execution_count": 106,
   "metadata": {},
   "outputs": [],
   "source": [
    "scaler = RobustScaler()\n",
    "\n",
    "X_train_scale = scaler.fit_transform(X_train)\n",
    "X_test_scale = scaler.transform(X_test)"
   ]
  },
  {
   "cell_type": "code",
   "execution_count": 107,
   "metadata": {},
   "outputs": [
    {
     "name": "stdout",
     "output_type": "stream",
     "text": [
      "0.9858631920183378\n",
      "-0.6504818184082428\n"
     ]
    }
   ],
   "source": [
    "## Linear SVR\n",
    "from sklearn.svm import LinearSVR\n",
    "\n",
    "svr_lm = LinearSVR(C=1000,\n",
    "                   epsilon=0.0,\n",
    "                    tol=0.0001,\n",
    "                    loss='epsilon_insensitive',\n",
    "                    random_state=42,\n",
    "                    max_iter=1000,)\n",
    "\n",
    "svr_lm.fit(X_train_scale, y_train)\n",
    "\n",
    "y_pred_test= svr_lm.predict(X_test_scale)\n",
    "y_pred_train = svr_lm.predict(X_train_scale)\n",
    "\n",
    "print(svr_lm.score(X_train_scale, y_train))\n",
    "print(svr_lm.score(X_test_scale, y_test))"
   ]
  },
  {
   "cell_type": "code",
   "execution_count": 108,
   "metadata": {},
   "outputs": [],
   "source": [
    "y_pred_train = y_pred_train.reshape(-1,1)\n",
    "y_pred_test = y_pred_test.reshape(-1,1)"
   ]
  },
  {
   "cell_type": "code",
   "execution_count": 109,
   "metadata": {},
   "outputs": [],
   "source": [
    "# 시각화 위한 데이터프레임\n",
    "y_pred_train = pd.DataFrame(y_pred_train)\n",
    "y_pred_test = pd.DataFrame(y_pred_test)\n",
    "\n",
    "df_train = pd.DataFrame(y_train)\n",
    "df_test = pd.DataFrame(y_test)\n",
    "\n",
    "df_train['predict'] = y_pred_train.values\n",
    "df_test['predict'] = y_pred_test.values\n",
    "\n",
    "df_train.rename(columns={'SPI':'true'}, inplace=True)\n",
    "df_test.rename(columns={'SPI':'true'}, inplace=True)\n"
   ]
  },
  {
   "cell_type": "code",
   "execution_count": 112,
   "metadata": {
    "scrolled": true
   },
   "outputs": [
    {
     "data": {
      "image/png": "[encoded data removed]",
      "text/plain": [
       "<Figure size 648x360 with 1 Axes>"
      ]
     },
     "metadata": {
      "needs_background": "light"
     },
     "output_type": "display_data"
    }
   ],
   "source": [
    "fig = plt.figure(figsize=(9,5))\n",
    "grid = fig.add_subplot(1,1,1)\n",
    "grid.plot(df_train['true'], label='train_true')\n",
    "grid.plot(df_train['predict'], label='train_predict')\n",
    "grid.plot(df_test['true'], label='valid_true')\n",
    "grid.plot(df_test['predict'], label='valid_predict')\n",
    "\n",
    "grid.set_title('SVR with Linear')\n",
    "plt.xticks(np.arange(0, 84, 12),\n",
    "           labels=['2013-01', '2014-01', '2015-01','2016-01','2017-01', '2018-01', '2019-01'])\n",
    "grid.set_xlabel('Date', fontsize=10)\n",
    "grid.set_ylabel('SPI',fontsize=10)\n",
    "# plt.xticks(fontsize=13, rotation=70, )\n",
    "grid.legend(loc='upper left')\n",
    "\n",
    "# fig.autofmt_xdate()\n",
    "plt.tight_layout()\n",
    "\n",
    "plt.show()"
   ]
  },
  {
   "cell_type": "markdown",
   "metadata": {},
   "source": [
    "## RBF SVR with GCV"
   ]
  },
  {
   "cell_type": "code",
   "execution_count": 126,
   "metadata": {},
   "outputs": [
    {
     "name": "stdout",
     "output_type": "stream",
     "text": [
      "0.9970906609744933\n",
      "-3.756205882788451\n"
     ]
    }
   ],
   "source": [
    "## SVR with RBF\n",
    "param = {'kernel':('linear', 'ploy', 'rbf'), \n",
    "         'C': [10, 30, 50, 100], \n",
    "         'degree': [1,3,5,10],\n",
    "         'gamma': [0.01, 0.1, 0.2, 0.5, 1, 5]}\n",
    "\n",
    "svr = SVR()\n",
    "kf = KFold(n_splits=10)\n",
    "grid = GridSearchCV(svr, param, cv=kf)\n",
    "\n",
    "# 학습\n",
    "grid.fit(X_train_scale, y_train)\n",
    "# grid.best_score_\n",
    "\n",
    "y_pred_test= grid.predict(X_test_scale)\n",
    "y_pred_train = grid.predict(X_train_scale)\n",
    "\n",
    "print(grid.score(X_train_scale, y_train))\n",
    "print(grid.score(X_test_scale, y_test))"
   ]
  },
  {
   "cell_type": "code",
   "execution_count": 127,
   "metadata": {},
   "outputs": [
    {
     "data": {
      "text/plain": [
       "{'C': 100, 'degree': 1, 'gamma': 0.01, 'kernel': 'rbf'}"
      ]
     },
     "execution_count": 127,
     "metadata": {},
     "output_type": "execute_result"
    }
   ],
   "source": [
    "grid.best_params_"
   ]
  },
  {
   "cell_type": "code",
   "execution_count": 128,
   "metadata": {},
   "outputs": [],
   "source": [
    "y_pred_train = y_pred_train.reshape(-1,1)\n",
    "y_pred_test = y_pred_test.reshape(-1,1)\n",
    "\n",
    "y_pred_train = pd.DataFrame(y_pred_train)\n",
    "y_pred_test = pd.DataFrame(y_pred_test)\n",
    "\n",
    "df_train = pd.DataFrame(y_train)\n",
    "df_test = pd.DataFrame(y_test)\n",
    "\n",
    "df_train['predict'] = y_pred_train.values\n",
    "df_test['predict'] = y_pred_test.values\n",
    "\n",
    "df_train.rename(columns={'SPI':'true'}, inplace=True)\n",
    "df_test.rename(columns={'SPI':'true'}, inplace=True)"
   ]
  },
  {
   "cell_type": "code",
   "execution_count": 129,
   "metadata": {},
   "outputs": [
    {
     "data": {
      "image/png": "[encoded data removed]",
      "text/plain": [
       "<Figure size 648x360 with 1 Axes>"
      ]
     },
     "metadata": {
      "needs_background": "light"
     },
     "output_type": "display_data"
    }
   ],
   "source": [
    "fig = plt.figure(figsize=(9,5))\n",
    "grid = fig.add_subplot(1,1,1)\n",
    "grid.plot(df_train['true'], label='train_true')\n",
    "grid.plot(df_train['predict'], label='train_predict')\n",
    "grid.plot(df_test['true'], label='valid_true')\n",
    "grid.plot(df_test['predict'], label='valid_predict')\n",
    "\n",
    "grid.set_title('SVR with RBF')\n",
    "plt.xticks(np.arange(0, 84, 12),\n",
    "           labels=['2013-01', '2014-01', '2015-01','2016-01','2017-01', '2018-01', '2019-01'])\n",
    "grid.set_xlabel('Date', fontsize=10)\n",
    "grid.set_ylabel('SPI',fontsize=10)\n",
    "# plt.xticks(fontsize=13, rotation=70, )\n",
    "grid.legend(loc='upper left')\n",
    "\n",
    "# fig.autofmt_xdate()\n",
    "plt.tight_layout()\n",
    "\n",
    "plt.show()"
   ]
  },
  {
   "cell_type": "markdown",
   "metadata": {},
   "source": [
    "### RBF SVR "
   ]
  },
  {
   "cell_type": "code",
   "execution_count": 220,
   "metadata": {},
   "outputs": [
    {
     "name": "stdout",
     "output_type": "stream",
     "text": [
      "0.9997478669332603\n",
      "-10.347861376468051\n"
     ]
    }
   ],
   "source": [
    "param = {'kernel':('linear', 'ploy', 'rbf'), \n",
    "         'C': [10, 30, 50, 100], \n",
    "         'degree': [1,3,5,10],\n",
    "         'gamma': [0.01, 0.1, 0.2, 0.5, 1, 5]}\n",
    "\n",
    "svr_rbf = SVR(kernel='rbf', C=30, gamma=0.135)\n",
    "\n",
    "\n",
    "# 학습\n",
    "svr_rbf.fit(X_train_scale, y_train)\n",
    "# grid.best_score_\n",
    "\n",
    "y_pred_test= svr_rbf.predict(X_test_scale)\n",
    "y_pred_train = svr_rbf.predict(X_train_scale)\n",
    "\n",
    "print(svr_rbf.score(X_train_scale, y_train))\n",
    "print(svr_rbf.score(X_test_scale, y_test))"
   ]
  },
  {
   "cell_type": "code",
   "execution_count": 167,
   "metadata": {},
   "outputs": [
    {
     "name": "stdout",
     "output_type": "stream",
     "text": [
      "22.73896918893114\n",
      "19.60131533109956\n"
     ]
    }
   ],
   "source": [
    "RMSE = np.sqrt(mean_squared_error(y_test, y_pred_test))\n",
    "MAE = mean_absolute_error(y_test, y_pred_test)\n",
    "print(RMSE)\n",
    "print(MAE)"
   ]
  },
  {
   "cell_type": "code",
   "execution_count": 155,
   "metadata": {},
   "outputs": [],
   "source": [
    "y_pred_train = y_pred_train.reshape(-1,1)\n",
    "y_pred_test = y_pred_test.reshape(-1,1)\n",
    "\n",
    "y_pred_train = pd.DataFrame(y_pred_train)\n",
    "y_pred_test = pd.DataFrame(y_pred_test)\n",
    "\n",
    "df_train = pd.DataFrame(y_train)\n",
    "df_test = pd.DataFrame(y_test)\n",
    "\n",
    "df_train['predict'] = y_pred_train.values\n",
    "df_test['predict'] = y_pred_test.values\n",
    "\n",
    "df_train.rename(columns={'SPI':'true'}, inplace=True)\n",
    "df_test.rename(columns={'SPI':'true'}, inplace=True)"
   ]
  },
  {
   "cell_type": "code",
   "execution_count": 156,
   "metadata": {},
   "outputs": [
    {
     "data": {
      "image/png": "[encoded data removed]",
      "text/plain": [
       "<Figure size 648x360 with 1 Axes>"
      ]
     },
     "metadata": {
      "needs_background": "light"
     },
     "output_type": "display_data"
    }
   ],
   "source": [
    "fig = plt.figure(figsize=(9,5))\n",
    "grid = fig.add_subplot(1,1,1)\n",
    "grid.plot(df_train['true'], label='train_true')\n",
    "grid.plot(df_train['predict'], label='train_predict')\n",
    "grid.plot(df_test['true'], label='valid_true')\n",
    "grid.plot(df_test['predict'], label='valid_predict')\n",
    "\n",
    "grid.set_title('SVR with RBF')\n",
    "plt.xticks(np.arange(0, 84, 12),\n",
    "           labels=['2013-01', '2014-01', '2015-01','2016-01','2017-01', '2018-01', '2019-01'])\n",
    "grid.set_xlabel('Date', fontsize=10)\n",
    "grid.set_ylabel('SPI',fontsize=10)\n",
    "# plt.xticks(fontsize=13, rotation=70, )\n",
    "grid.legend(loc='upper left')\n",
    "\n",
    "# fig.autofmt_xdate()\n",
    "plt.tight_layout()\n",
    "\n",
    "plt.show()"
   ]
  },
  {
   "cell_type": "markdown",
   "metadata": {},
   "source": [
    "### SVR with Poly\n",
    "- 최종모형"
   ]
  },
  {
   "cell_type": "code",
   "execution_count": 161,
   "metadata": {},
   "outputs": [
    {
     "name": "stdout",
     "output_type": "stream",
     "text": [
      "0.9953266355888734\n",
      "0.43096135949801406\n"
     ]
    }
   ],
   "source": [
    "param = {'kernel':('linear', 'ploy', 'rbf'), \n",
    "         'C': [10, 30, 50, 100], \n",
    "         'degree': [1,3,5,10],\n",
    "         'gamma': [0.01, 0.1, 0.2, 0.5, 1, 5]}\n",
    "\n",
    "svr_rbf = SVR(kernel='poly', C=300, degree=1, gamma=0.12)\n",
    "\n",
    "\n",
    "# 학습\n",
    "svr_rbf.fit(X_train_scale, y_train)\n",
    "# grid.best_score_\n",
    "\n",
    "y_pred_test= svr_rbf.predict(X_test_scale)\n",
    "y_pred_train = svr_rbf.predict(X_train_scale)\n",
    "\n",
    "print(svr_rbf.score(X_train_scale, y_train))\n",
    "print(svr_rbf.score(X_test_scale, y_test))"
   ]
  },
  {
   "cell_type": "code",
   "execution_count": 206,
   "metadata": {},
   "outputs": [
    {
     "name": "stdout",
     "output_type": "stream",
     "text": [
      "0.9963378117740295\n",
      "0.5940819485767114\n"
     ]
    }
   ],
   "source": [
    "# 튜닝2\n",
    "svr_rbf = SVR(kernel='poly', C=270, degree=2, gamma=0.1)\n",
    "\n",
    "\n",
    "# 학습\n",
    "svr_rbf.fit(X_train_scale, y_train)\n",
    "# grid.best_score_\n",
    "\n",
    "y_pred_test= svr_rbf.predict(X_test_scale)\n",
    "y_pred_train = svr_rbf.predict(X_train_scale)\n",
    "\n",
    "print(svr_rbf.score(X_train_scale, y_train))\n",
    "print(svr_rbf.score(X_test_scale, y_test))"
   ]
  },
  {
   "cell_type": "code",
   "execution_count": 207,
   "metadata": {},
   "outputs": [
    {
     "name": "stdout",
     "output_type": "stream",
     "text": [
      "5.294550930298748\n",
      "4.179643019185883\n"
     ]
    }
   ],
   "source": [
    "RMSE = np.sqrt(mean_squared_error(y_test, y_pred_test))\n",
    "MAE = mean_absolute_error(y_test, y_pred_test)\n",
    "print(RMSE)\n",
    "print(MAE)"
   ]
  },
  {
   "cell_type": "code",
   "execution_count": 208,
   "metadata": {},
   "outputs": [],
   "source": [
    "y_pred_train = y_pred_train.reshape(-1,1)\n",
    "y_pred_test = y_pred_test.reshape(-1,1)\n",
    "\n",
    "y_pred_train = pd.DataFrame(y_pred_train)\n",
    "y_pred_test = pd.DataFrame(y_pred_test)\n",
    "\n",
    "df_train = pd.DataFrame(y_train)\n",
    "df_test = pd.DataFrame(y_test)\n",
    "\n",
    "df_train['predict'] = y_pred_train.values\n",
    "df_test['predict'] = y_pred_test.values\n",
    "\n",
    "df_train.rename(columns={'SPI':'true'}, inplace=True)\n",
    "df_test.rename(columns={'SPI':'true'}, inplace=True)"
   ]
  },
  {
   "cell_type": "code",
   "execution_count": 221,
   "metadata": {
    "scrolled": false
   },
   "outputs": [
    {
     "data": {
      "image/png": "[encoded data removed]",
      "text/plain": [
       "<Figure size 648x360 with 1 Axes>"
      ]
     },
     "metadata": {
      "needs_background": "light"
     },
     "output_type": "display_data"
    }
   ],
   "source": [
    "fig = plt.figure(figsize=(9,5))\n",
    "grid = fig.add_subplot(1,1,1)\n",
    "grid.plot(df_train['true'], label='train_true')\n",
    "grid.plot(df_train['predict'], label='train_predict')\n",
    "grid.plot(df_test['true'], label='test_true')\n",
    "grid.plot(df_test['predict'], label='test_predict')\n",
    "\n",
    "grid.set_title('SVR with Poly')\n",
    "plt.xticks(np.arange(0, 84, 12),\n",
    "           labels=['2013-01', '2014-01', '2015-01','2016-01','2017-01', '2018-01', '2019-01'])\n",
    "grid.set_xlabel('Date', fontsize=10)\n",
    "grid.set_ylabel('SPI',fontsize=10)\n",
    "# plt.xticks(fontsize=13, rotation=70, )\n",
    "grid.legend(loc='upper left')\n",
    "\n",
    "# fig.autofmt_xdate()\n",
    "plt.tight_layout()\n",
    "\n",
    "plt.show()"
   ]
  }
 ],
 "metadata": {
  "kernelspec": {
   "display_name": "Python 3",
   "language": "python",
   "name": "python3"
  },
  "language_info": {
   "codemirror_mode": {
    "name": "ipython",
    "version": 3
   },
   "file_extension": ".py",
   "mimetype": "text/x-python",
   "name": "python",
   "nbconvert_exporter": "python",
   "pygments_lexer": "ipython3",
   "version": "3.8.5"
  }
 },
 "nbformat": 4,
 "nbformat_minor": 4
}
