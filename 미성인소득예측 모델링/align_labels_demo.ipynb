{
 "cells": [
  {
   "cell_type": "code",
   "execution_count": null,
   "metadata": {},
   "outputs": [],
   "source": [
    "%matplotlib inline"
   ]
  },
  {
   "cell_type": "markdown",
   "metadata": {},
   "source": [
    "\n",
    "# Aligning Labels\n",
    "\n",
    "\n",
    "Aligning xlabel and ylabel using `.Figure.align_xlabels` and\n",
    "`.Figure.align_ylabels`\n",
    "\n",
    "`.Figure.align_labels` wraps these two functions.\n",
    "\n",
    "Note that the xlabel \"XLabel1 1\" would normally be much closer to the\n",
    "x-axis, and \"YLabel1 0\" would be much closer to the y-axis of their\n",
    "respective axes.\n"
   ]
  },
  {
   "cell_type": "code",
   "execution_count": null,
   "metadata": {},
   "outputs": [],
   "source": [
    "import matplotlib.pyplot as plt\n",
    "import numpy as np\n",
    "import matplotlib.gridspec as gridspec\n",
    "\n",
    "fig = plt.figure(tight_layout=True)\n",
    "gs = gridspec.GridSpec(2, 2)\n",
    "\n",
    "ax = fig.add_subplot(gs[0, :])\n",
    "ax.plot(np.arange(0, 1e6, 1000))\n",
    "ax.set_ylabel('YLabel0')\n",
    "ax.set_xlabel('XLabel0')\n",
    "\n",
    "for i in range(2):\n",
    "    ax = fig.add_subplot(gs[1, i])\n",
    "    ax.plot(np.arange(1., 0., -0.1) * 2000., np.arange(1., 0., -0.1))\n",
    "    ax.set_ylabel('YLabel1 %d' % i)\n",
    "    ax.set_xlabel('XLabel1 %d' % i)\n",
    "    if i == 0:\n",
    "        for tick in ax.get_xticklabels():\n",
    "            tick.set_rotation(55)\n",
    "fig.align_labels()  # same as fig.align_xlabels(); fig.align_ylabels()\n",
    "\n",
    "plt.show()"
   ]
  }
 ],
 "metadata": {
  "kernelspec": {
   "display_name": "Python 3",
   "language": "python",
   "name": "python3"
  },
  "language_info": {
   "codemirror_mode": {
    "name": "ipython",
    "version": 3
   },
   "file_extension": ".py",
   "mimetype": "text/x-python",
   "name": "python",
   "nbconvert_exporter": "python",
   "pygments_lexer": "ipython3",
   "version": "3.6.1"
  }
 },
 "nbformat": 4,
 "nbformat_minor": 1
}
