{
 "cells": [
  {
   "cell_type": "code",
   "execution_count": 1,
   "metadata": {},
   "outputs": [],
   "source": [
    "import pandas as pd\n",
    "import numpy as np\n",
    "\n",
    "import seaborn as sns\n",
    "import matplotlib.pyplot as plt\n"
   ]
  },
  {
   "cell_type": "code",
   "execution_count": 2,
   "metadata": {},
   "outputs": [],
   "source": [
    "train = pd.read_csv('~/Downloads/kakr-4th-competition/train.csv')\n",
    "test = pd.read_csv('~/Downloads/kakr-4th-competition/test.csv')"
   ]
  },
  {
   "cell_type": "code",
   "execution_count": 3,
   "metadata": {},
   "outputs": [
    {
     "data": {
      "text/html": [
       "<div>\n",
       "<style scoped>\n",
       "    .dataframe tbody tr th:only-of-type {\n",
       "        vertical-align: middle;\n",
       "    }\n",
       "\n",
       "    .dataframe tbody tr th {\n",
       "        vertical-align: top;\n",
       "    }\n",
       "\n",
       "    .dataframe thead th {\n",
       "        text-align: right;\n",
       "    }\n",
       "</style>\n",
       "<table border=\"1\" class=\"dataframe\">\n",
       "  <thead>\n",
       "    <tr style=\"text-align: right;\">\n",
       "      <th></th>\n",
       "      <th>id</th>\n",
       "      <th>age</th>\n",
       "      <th>workclass</th>\n",
       "      <th>fnlwgt</th>\n",
       "      <th>education</th>\n",
       "      <th>education_num</th>\n",
       "      <th>marital_status</th>\n",
       "      <th>occupation</th>\n",
       "      <th>relationship</th>\n",
       "      <th>race</th>\n",
       "      <th>sex</th>\n",
       "      <th>capital_gain</th>\n",
       "      <th>capital_loss</th>\n",
       "      <th>hours_per_week</th>\n",
       "      <th>native_country</th>\n",
       "      <th>income</th>\n",
       "    </tr>\n",
       "  </thead>\n",
       "  <tbody>\n",
       "    <tr>\n",
       "      <th>0</th>\n",
       "      <td>0</td>\n",
       "      <td>40</td>\n",
       "      <td>Private</td>\n",
       "      <td>168538</td>\n",
       "      <td>HS-grad</td>\n",
       "      <td>9</td>\n",
       "      <td>Married-civ-spouse</td>\n",
       "      <td>Sales</td>\n",
       "      <td>Husband</td>\n",
       "      <td>White</td>\n",
       "      <td>Male</td>\n",
       "      <td>0</td>\n",
       "      <td>0</td>\n",
       "      <td>60</td>\n",
       "      <td>United-States</td>\n",
       "      <td>&gt;50K</td>\n",
       "    </tr>\n",
       "    <tr>\n",
       "      <th>1</th>\n",
       "      <td>1</td>\n",
       "      <td>17</td>\n",
       "      <td>Private</td>\n",
       "      <td>101626</td>\n",
       "      <td>9th</td>\n",
       "      <td>5</td>\n",
       "      <td>Never-married</td>\n",
       "      <td>Machine-op-inspct</td>\n",
       "      <td>Own-child</td>\n",
       "      <td>White</td>\n",
       "      <td>Male</td>\n",
       "      <td>0</td>\n",
       "      <td>0</td>\n",
       "      <td>20</td>\n",
       "      <td>United-States</td>\n",
       "      <td>&lt;=50K</td>\n",
       "    </tr>\n",
       "    <tr>\n",
       "      <th>2</th>\n",
       "      <td>2</td>\n",
       "      <td>18</td>\n",
       "      <td>Private</td>\n",
       "      <td>353358</td>\n",
       "      <td>Some-college</td>\n",
       "      <td>10</td>\n",
       "      <td>Never-married</td>\n",
       "      <td>Other-service</td>\n",
       "      <td>Own-child</td>\n",
       "      <td>White</td>\n",
       "      <td>Male</td>\n",
       "      <td>0</td>\n",
       "      <td>0</td>\n",
       "      <td>16</td>\n",
       "      <td>United-States</td>\n",
       "      <td>&lt;=50K</td>\n",
       "    </tr>\n",
       "    <tr>\n",
       "      <th>3</th>\n",
       "      <td>3</td>\n",
       "      <td>21</td>\n",
       "      <td>Private</td>\n",
       "      <td>151158</td>\n",
       "      <td>Some-college</td>\n",
       "      <td>10</td>\n",
       "      <td>Never-married</td>\n",
       "      <td>Prof-specialty</td>\n",
       "      <td>Own-child</td>\n",
       "      <td>White</td>\n",
       "      <td>Female</td>\n",
       "      <td>0</td>\n",
       "      <td>0</td>\n",
       "      <td>25</td>\n",
       "      <td>United-States</td>\n",
       "      <td>&lt;=50K</td>\n",
       "    </tr>\n",
       "    <tr>\n",
       "      <th>4</th>\n",
       "      <td>4</td>\n",
       "      <td>24</td>\n",
       "      <td>Private</td>\n",
       "      <td>122234</td>\n",
       "      <td>Some-college</td>\n",
       "      <td>10</td>\n",
       "      <td>Never-married</td>\n",
       "      <td>Adm-clerical</td>\n",
       "      <td>Not-in-family</td>\n",
       "      <td>Black</td>\n",
       "      <td>Female</td>\n",
       "      <td>0</td>\n",
       "      <td>0</td>\n",
       "      <td>20</td>\n",
       "      <td>?</td>\n",
       "      <td>&lt;=50K</td>\n",
       "    </tr>\n",
       "  </tbody>\n",
       "</table>\n",
       "</div>"
      ],
      "text/plain": [
       "   id  age workclass  fnlwgt     education  education_num      marital_status  \\\n",
       "0   0   40   Private  168538       HS-grad              9  Married-civ-spouse   \n",
       "1   1   17   Private  101626           9th              5       Never-married   \n",
       "2   2   18   Private  353358  Some-college             10       Never-married   \n",
       "3   3   21   Private  151158  Some-college             10       Never-married   \n",
       "4   4   24   Private  122234  Some-college             10       Never-married   \n",
       "\n",
       "          occupation   relationship   race     sex  capital_gain  \\\n",
       "0              Sales        Husband  White    Male             0   \n",
       "1  Machine-op-inspct      Own-child  White    Male             0   \n",
       "2      Other-service      Own-child  White    Male             0   \n",
       "3     Prof-specialty      Own-child  White  Female             0   \n",
       "4       Adm-clerical  Not-in-family  Black  Female             0   \n",
       "\n",
       "   capital_loss  hours_per_week native_country income  \n",
       "0             0              60  United-States   >50K  \n",
       "1             0              20  United-States  <=50K  \n",
       "2             0              16  United-States  <=50K  \n",
       "3             0              25  United-States  <=50K  \n",
       "4             0              20              ?  <=50K  "
      ]
     },
     "execution_count": 3,
     "metadata": {},
     "output_type": "execute_result"
    }
   ],
   "source": [
    "train.head()"
   ]
  },
  {
   "cell_type": "code",
   "execution_count": 4,
   "metadata": {},
   "outputs": [
    {
     "name": "stdout",
     "output_type": "stream",
     "text": [
      "<class 'pandas.core.frame.DataFrame'>\n",
      "RangeIndex: 6512 entries, 0 to 6511\n",
      "Data columns (total 15 columns):\n",
      " #   Column          Non-Null Count  Dtype \n",
      "---  ------          --------------  ----- \n",
      " 0   id              6512 non-null   int64 \n",
      " 1   age             6512 non-null   int64 \n",
      " 2   workclass       6512 non-null   object\n",
      " 3   fnlwgt          6512 non-null   int64 \n",
      " 4   education       6512 non-null   object\n",
      " 5   education_num   6512 non-null   int64 \n",
      " 6   marital_status  6512 non-null   object\n",
      " 7   occupation      6512 non-null   object\n",
      " 8   relationship    6512 non-null   object\n",
      " 9   race            6512 non-null   object\n",
      " 10  sex             6512 non-null   object\n",
      " 11  capital_gain    6512 non-null   int64 \n",
      " 12  capital_loss    6512 non-null   int64 \n",
      " 13  hours_per_week  6512 non-null   int64 \n",
      " 14  native_country  6512 non-null   object\n",
      "dtypes: int64(7), object(8)\n",
      "memory usage: 763.2+ KB\n",
      "None\n",
      "==================================================\n",
      "<class 'pandas.core.frame.DataFrame'>\n",
      "RangeIndex: 6512 entries, 0 to 6511\n",
      "Data columns (total 15 columns):\n",
      " #   Column          Non-Null Count  Dtype \n",
      "---  ------          --------------  ----- \n",
      " 0   id              6512 non-null   int64 \n",
      " 1   age             6512 non-null   int64 \n",
      " 2   workclass       6512 non-null   object\n",
      " 3   fnlwgt          6512 non-null   int64 \n",
      " 4   education       6512 non-null   object\n",
      " 5   education_num   6512 non-null   int64 \n",
      " 6   marital_status  6512 non-null   object\n",
      " 7   occupation      6512 non-null   object\n",
      " 8   relationship    6512 non-null   object\n",
      " 9   race            6512 non-null   object\n",
      " 10  sex             6512 non-null   object\n",
      " 11  capital_gain    6512 non-null   int64 \n",
      " 12  capital_loss    6512 non-null   int64 \n",
      " 13  hours_per_week  6512 non-null   int64 \n",
      " 14  native_country  6512 non-null   object\n",
      "dtypes: int64(7), object(8)\n",
      "memory usage: 763.2+ KB\n",
      "None\n"
     ]
    }
   ],
   "source": [
    "print(test.info())\n",
    "print('='*50)\n",
    "print(test.info())"
   ]
  },
  {
   "cell_type": "code",
   "execution_count": 5,
   "metadata": {},
   "outputs": [
    {
     "data": {
      "text/plain": [
       "id                0\n",
       "age               0\n",
       "workclass         0\n",
       "fnlwgt            0\n",
       "education         0\n",
       "education_num     0\n",
       "marital_status    0\n",
       "occupation        0\n",
       "relationship      0\n",
       "race              0\n",
       "sex               0\n",
       "capital_gain      0\n",
       "capital_loss      0\n",
       "hours_per_week    0\n",
       "native_country    0\n",
       "income            0\n",
       "dtype: int64"
      ]
     },
     "execution_count": 5,
     "metadata": {},
     "output_type": "execute_result"
    }
   ],
   "source": [
    "train.isnull().sum()"
   ]
  },
  {
   "cell_type": "code",
   "execution_count": 6,
   "metadata": {},
   "outputs": [
    {
     "data": {
      "text/plain": [
       "id                0\n",
       "age               0\n",
       "workclass         0\n",
       "fnlwgt            0\n",
       "education         0\n",
       "education_num     0\n",
       "marital_status    0\n",
       "occupation        0\n",
       "relationship      0\n",
       "race              0\n",
       "sex               0\n",
       "capital_gain      0\n",
       "capital_loss      0\n",
       "hours_per_week    0\n",
       "native_country    0\n",
       "dtype: int64"
      ]
     },
     "execution_count": 6,
     "metadata": {},
     "output_type": "execute_result"
    }
   ],
   "source": [
    "test.isnull().sum()"
   ]
  },
  {
   "cell_type": "markdown",
   "metadata": {},
   "source": [
    "## EDA 과정에서 살펴야 할것\n",
    "\n",
    "1. EDA과정에서 봐야할 것\n",
    "Feature 별 특성, 어떤 종류의 데이터를 어떻게 처리할까? \n",
    "모델에 직접 넣을 수 있는가? \n",
    "텍스트 정보를 인코딩하는 방법 고민 \n",
    "\n",
    "-feature engineering \n",
    "missing value 를 대체할 방법 고민\n",
    "이상치처리 / 일반화된 모델 도출의 어려움\n",
    "\n",
    "-데이터 파악\n",
    "수치형 (numerical) : 수 데이터\n",
    "    - 이산형\n",
    "    - 연속형\n",
    "범주형 (categorical) : 수 외의 값\n",
    "    - 명목형 : one-hot incoding\n",
    "    - 순서형\n",
    "\n",
    "기초 통계량 파악 (describe() function 사용)"
   ]
  },
  {
   "cell_type": "code",
   "execution_count": 7,
   "metadata": {},
   "outputs": [
    {
     "data": {
      "text/html": [
       "<div>\n",
       "<style scoped>\n",
       "    .dataframe tbody tr th:only-of-type {\n",
       "        vertical-align: middle;\n",
       "    }\n",
       "\n",
       "    .dataframe tbody tr th {\n",
       "        vertical-align: top;\n",
       "    }\n",
       "\n",
       "    .dataframe thead th {\n",
       "        text-align: right;\n",
       "    }\n",
       "</style>\n",
       "<table border=\"1\" class=\"dataframe\">\n",
       "  <thead>\n",
       "    <tr style=\"text-align: right;\">\n",
       "      <th></th>\n",
       "      <th>id</th>\n",
       "      <th>age</th>\n",
       "      <th>fnlwgt</th>\n",
       "      <th>education_num</th>\n",
       "      <th>capital_gain</th>\n",
       "      <th>capital_loss</th>\n",
       "      <th>hours_per_week</th>\n",
       "    </tr>\n",
       "  </thead>\n",
       "  <tbody>\n",
       "    <tr>\n",
       "      <th>count</th>\n",
       "      <td>26049.000000</td>\n",
       "      <td>26049.000000</td>\n",
       "      <td>2.604900e+04</td>\n",
       "      <td>26049.000000</td>\n",
       "      <td>26049.00000</td>\n",
       "      <td>26049.000000</td>\n",
       "      <td>26049.000000</td>\n",
       "    </tr>\n",
       "    <tr>\n",
       "      <th>mean</th>\n",
       "      <td>13024.000000</td>\n",
       "      <td>38.569235</td>\n",
       "      <td>1.903045e+05</td>\n",
       "      <td>10.088372</td>\n",
       "      <td>1087.68970</td>\n",
       "      <td>87.732734</td>\n",
       "      <td>40.443126</td>\n",
       "    </tr>\n",
       "    <tr>\n",
       "      <th>std</th>\n",
       "      <td>7519.842917</td>\n",
       "      <td>13.671489</td>\n",
       "      <td>1.059663e+05</td>\n",
       "      <td>2.567610</td>\n",
       "      <td>7388.85469</td>\n",
       "      <td>403.230205</td>\n",
       "      <td>12.361850</td>\n",
       "    </tr>\n",
       "    <tr>\n",
       "      <th>min</th>\n",
       "      <td>0.000000</td>\n",
       "      <td>17.000000</td>\n",
       "      <td>1.376900e+04</td>\n",
       "      <td>1.000000</td>\n",
       "      <td>0.00000</td>\n",
       "      <td>0.000000</td>\n",
       "      <td>1.000000</td>\n",
       "    </tr>\n",
       "    <tr>\n",
       "      <th>25%</th>\n",
       "      <td>6512.000000</td>\n",
       "      <td>28.000000</td>\n",
       "      <td>1.181080e+05</td>\n",
       "      <td>9.000000</td>\n",
       "      <td>0.00000</td>\n",
       "      <td>0.000000</td>\n",
       "      <td>40.000000</td>\n",
       "    </tr>\n",
       "    <tr>\n",
       "      <th>50%</th>\n",
       "      <td>13024.000000</td>\n",
       "      <td>37.000000</td>\n",
       "      <td>1.788660e+05</td>\n",
       "      <td>10.000000</td>\n",
       "      <td>0.00000</td>\n",
       "      <td>0.000000</td>\n",
       "      <td>40.000000</td>\n",
       "    </tr>\n",
       "    <tr>\n",
       "      <th>75%</th>\n",
       "      <td>19536.000000</td>\n",
       "      <td>48.000000</td>\n",
       "      <td>2.377350e+05</td>\n",
       "      <td>12.000000</td>\n",
       "      <td>0.00000</td>\n",
       "      <td>0.000000</td>\n",
       "      <td>45.000000</td>\n",
       "    </tr>\n",
       "    <tr>\n",
       "      <th>max</th>\n",
       "      <td>26048.000000</td>\n",
       "      <td>90.000000</td>\n",
       "      <td>1.484705e+06</td>\n",
       "      <td>16.000000</td>\n",
       "      <td>99999.00000</td>\n",
       "      <td>4356.000000</td>\n",
       "      <td>99.000000</td>\n",
       "    </tr>\n",
       "  </tbody>\n",
       "</table>\n",
       "</div>"
      ],
      "text/plain": [
       "                 id           age        fnlwgt  education_num  capital_gain  \\\n",
       "count  26049.000000  26049.000000  2.604900e+04   26049.000000   26049.00000   \n",
       "mean   13024.000000     38.569235  1.903045e+05      10.088372    1087.68970   \n",
       "std     7519.842917     13.671489  1.059663e+05       2.567610    7388.85469   \n",
       "min        0.000000     17.000000  1.376900e+04       1.000000       0.00000   \n",
       "25%     6512.000000     28.000000  1.181080e+05       9.000000       0.00000   \n",
       "50%    13024.000000     37.000000  1.788660e+05      10.000000       0.00000   \n",
       "75%    19536.000000     48.000000  2.377350e+05      12.000000       0.00000   \n",
       "max    26048.000000     90.000000  1.484705e+06      16.000000   99999.00000   \n",
       "\n",
       "       capital_loss  hours_per_week  \n",
       "count  26049.000000    26049.000000  \n",
       "mean      87.732734       40.443126  \n",
       "std      403.230205       12.361850  \n",
       "min        0.000000        1.000000  \n",
       "25%        0.000000       40.000000  \n",
       "50%        0.000000       40.000000  \n",
       "75%        0.000000       45.000000  \n",
       "max     4356.000000       99.000000  "
      ]
     },
     "execution_count": 7,
     "metadata": {},
     "output_type": "execute_result"
    }
   ],
   "source": [
    "train.describe()"
   ]
  },
  {
   "cell_type": "code",
   "execution_count": 8,
   "metadata": {},
   "outputs": [
    {
     "data": {
      "text/html": [
       "<div>\n",
       "<style scoped>\n",
       "    .dataframe tbody tr th:only-of-type {\n",
       "        vertical-align: middle;\n",
       "    }\n",
       "\n",
       "    .dataframe tbody tr th {\n",
       "        vertical-align: top;\n",
       "    }\n",
       "\n",
       "    .dataframe thead th {\n",
       "        text-align: right;\n",
       "    }\n",
       "</style>\n",
       "<table border=\"1\" class=\"dataframe\">\n",
       "  <thead>\n",
       "    <tr style=\"text-align: right;\">\n",
       "      <th></th>\n",
       "      <th>id</th>\n",
       "      <th>age</th>\n",
       "      <th>fnlwgt</th>\n",
       "      <th>education_num</th>\n",
       "      <th>capital_gain</th>\n",
       "      <th>capital_loss</th>\n",
       "      <th>hours_per_week</th>\n",
       "    </tr>\n",
       "  </thead>\n",
       "  <tbody>\n",
       "    <tr>\n",
       "      <th>count</th>\n",
       "      <td>6512.000000</td>\n",
       "      <td>6512.000000</td>\n",
       "      <td>6.512000e+03</td>\n",
       "      <td>6512.000000</td>\n",
       "      <td>6512.000000</td>\n",
       "      <td>6512.000000</td>\n",
       "      <td>6512.000000</td>\n",
       "    </tr>\n",
       "    <tr>\n",
       "      <th>mean</th>\n",
       "      <td>3255.500000</td>\n",
       "      <td>38.631296</td>\n",
       "      <td>1.876738e+05</td>\n",
       "      <td>10.049908</td>\n",
       "      <td>1037.483876</td>\n",
       "      <td>85.588145</td>\n",
       "      <td>40.414773</td>\n",
       "    </tr>\n",
       "    <tr>\n",
       "      <th>std</th>\n",
       "      <td>1879.996809</td>\n",
       "      <td>13.516418</td>\n",
       "      <td>1.038493e+05</td>\n",
       "      <td>2.593033</td>\n",
       "      <td>7371.453668</td>\n",
       "      <td>401.904741</td>\n",
       "      <td>12.290491</td>\n",
       "    </tr>\n",
       "    <tr>\n",
       "      <th>min</th>\n",
       "      <td>0.000000</td>\n",
       "      <td>17.000000</td>\n",
       "      <td>1.228500e+04</td>\n",
       "      <td>1.000000</td>\n",
       "      <td>0.000000</td>\n",
       "      <td>0.000000</td>\n",
       "      <td>1.000000</td>\n",
       "    </tr>\n",
       "    <tr>\n",
       "      <th>25%</th>\n",
       "      <td>1627.750000</td>\n",
       "      <td>28.000000</td>\n",
       "      <td>1.165042e+05</td>\n",
       "      <td>9.000000</td>\n",
       "      <td>0.000000</td>\n",
       "      <td>0.000000</td>\n",
       "      <td>40.000000</td>\n",
       "    </tr>\n",
       "    <tr>\n",
       "      <th>50%</th>\n",
       "      <td>3255.500000</td>\n",
       "      <td>37.000000</td>\n",
       "      <td>1.768820e+05</td>\n",
       "      <td>10.000000</td>\n",
       "      <td>0.000000</td>\n",
       "      <td>0.000000</td>\n",
       "      <td>40.000000</td>\n",
       "    </tr>\n",
       "    <tr>\n",
       "      <th>75%</th>\n",
       "      <td>4883.250000</td>\n",
       "      <td>48.000000</td>\n",
       "      <td>2.358508e+05</td>\n",
       "      <td>12.000000</td>\n",
       "      <td>0.000000</td>\n",
       "      <td>0.000000</td>\n",
       "      <td>45.000000</td>\n",
       "    </tr>\n",
       "    <tr>\n",
       "      <th>max</th>\n",
       "      <td>6511.000000</td>\n",
       "      <td>90.000000</td>\n",
       "      <td>1.125613e+06</td>\n",
       "      <td>16.000000</td>\n",
       "      <td>99999.000000</td>\n",
       "      <td>4356.000000</td>\n",
       "      <td>99.000000</td>\n",
       "    </tr>\n",
       "  </tbody>\n",
       "</table>\n",
       "</div>"
      ],
      "text/plain": [
       "                id          age        fnlwgt  education_num  capital_gain  \\\n",
       "count  6512.000000  6512.000000  6.512000e+03    6512.000000   6512.000000   \n",
       "mean   3255.500000    38.631296  1.876738e+05      10.049908   1037.483876   \n",
       "std    1879.996809    13.516418  1.038493e+05       2.593033   7371.453668   \n",
       "min       0.000000    17.000000  1.228500e+04       1.000000      0.000000   \n",
       "25%    1627.750000    28.000000  1.165042e+05       9.000000      0.000000   \n",
       "50%    3255.500000    37.000000  1.768820e+05      10.000000      0.000000   \n",
       "75%    4883.250000    48.000000  2.358508e+05      12.000000      0.000000   \n",
       "max    6511.000000    90.000000  1.125613e+06      16.000000  99999.000000   \n",
       "\n",
       "       capital_loss  hours_per_week  \n",
       "count   6512.000000     6512.000000  \n",
       "mean      85.588145       40.414773  \n",
       "std      401.904741       12.290491  \n",
       "min        0.000000        1.000000  \n",
       "25%        0.000000       40.000000  \n",
       "50%        0.000000       40.000000  \n",
       "75%        0.000000       45.000000  \n",
       "max     4356.000000       99.000000  "
      ]
     },
     "execution_count": 8,
     "metadata": {},
     "output_type": "execute_result"
    }
   ],
   "source": [
    "test.describe()"
   ]
  },
  {
   "cell_type": "code",
   "execution_count": 9,
   "metadata": {},
   "outputs": [
    {
     "data": {
      "image/png": "[encoded data removed]",
      "text/plain": [
       "<Figure size 864x360 with 1 Axes>"
      ]
     },
     "metadata": {
      "needs_background": "light"
     },
     "output_type": "display_data"
    }
   ],
   "source": [
    "import matplotlib.pyplot as plt\n",
    "import matplotlib as mpl\n",
    "\n",
    "fig, ax = plt.subplots(1,1, figsize=(12,5))\n",
    "ax.hist(train['age'], width=3, edgecolor='black')\n",
    "ax.set_title('Age distribution', fontweight='bold')\n",
    "\n",
    "plt.show()"
   ]
  },
  {
   "cell_type": "code",
   "execution_count": 10,
   "metadata": {},
   "outputs": [
    {
     "data": {
      "text/plain": [
       "<Signature (x, bins=None, range=None, density=False, weights=None, cumulative=False, bottom=None, histtype='bar', align='mid', orientation='vertical', rwidth=None, log=False, color=None, label=None, stacked=False, *, data=None, **kwargs)>"
      ]
     },
     "execution_count": 10,
     "metadata": {},
     "output_type": "execute_result"
    }
   ],
   "source": [
    "from inspect import signature\n",
    "\n",
    "signature(plt.hist)"
   ]
  },
  {
   "cell_type": "code",
   "execution_count": 11,
   "metadata": {},
   "outputs": [
    {
     "data": {
      "text/plain": [
       "<AxesSubplot:xlabel='age', ylabel='Density'>"
      ]
     },
     "execution_count": 11,
     "metadata": {},
     "output_type": "execute_result"
    },
    {
     "data": {
      "image/png": "[encoded data removed]",
      "text/plain": [
       "<Figure size 432x288 with 1 Axes>"
      ]
     },
     "metadata": {
      "needs_background": "light"
     },
     "output_type": "display_data"
    }
   ],
   "source": [
    "sns.kdeplot(data=train, x='age')"
   ]
  },
  {
   "cell_type": "code",
   "execution_count": 12,
   "metadata": {},
   "outputs": [
    {
     "data": {
      "text/plain": [
       "0    19744\n",
       "1     6305\n",
       "Name: income, dtype: int64"
      ]
     },
     "execution_count": 12,
     "metadata": {},
     "output_type": "execute_result"
    }
   ],
   "source": [
    "train['income'] = (train['income'] == '>50K').astype(int)\n",
    "train['income'].value_counts()"
   ]
  },
  {
   "cell_type": "code",
   "execution_count": 13,
   "metadata": {},
   "outputs": [
    {
     "data": {
      "text/html": [
       "<div>\n",
       "<style scoped>\n",
       "    .dataframe tbody tr th:only-of-type {\n",
       "        vertical-align: middle;\n",
       "    }\n",
       "\n",
       "    .dataframe tbody tr th {\n",
       "        vertical-align: top;\n",
       "    }\n",
       "\n",
       "    .dataframe thead th {\n",
       "        text-align: right;\n",
       "    }\n",
       "</style>\n",
       "<table border=\"1\" class=\"dataframe\">\n",
       "  <thead>\n",
       "    <tr style=\"text-align: right;\">\n",
       "      <th></th>\n",
       "      <th></th>\n",
       "      <th>id</th>\n",
       "      <th>age</th>\n",
       "      <th>fnlwgt</th>\n",
       "      <th>education_num</th>\n",
       "      <th>capital_gain</th>\n",
       "      <th>capital_loss</th>\n",
       "      <th>hours_per_week</th>\n",
       "      <th>income</th>\n",
       "    </tr>\n",
       "    <tr>\n",
       "      <th>race</th>\n",
       "      <th>sex</th>\n",
       "      <th></th>\n",
       "      <th></th>\n",
       "      <th></th>\n",
       "      <th></th>\n",
       "      <th></th>\n",
       "      <th></th>\n",
       "      <th></th>\n",
       "      <th></th>\n",
       "    </tr>\n",
       "  </thead>\n",
       "  <tbody>\n",
       "    <tr>\n",
       "      <th rowspan=\"2\" valign=\"top\">Amer-Indian-Eskimo</th>\n",
       "      <th>Female</th>\n",
       "      <td>12309.681818</td>\n",
       "      <td>37.454545</td>\n",
       "      <td>117238.954545</td>\n",
       "      <td>9.761364</td>\n",
       "      <td>646.636364</td>\n",
       "      <td>19.556818</td>\n",
       "      <td>36.204545</td>\n",
       "      <td>0.102273</td>\n",
       "    </tr>\n",
       "    <tr>\n",
       "      <th>Male</th>\n",
       "      <td>12441.331325</td>\n",
       "      <td>36.915663</td>\n",
       "      <td>125551.475904</td>\n",
       "      <td>9.090361</td>\n",
       "      <td>649.596386</td>\n",
       "      <td>53.662651</td>\n",
       "      <td>41.837349</td>\n",
       "      <td>0.120482</td>\n",
       "    </tr>\n",
       "    <tr>\n",
       "      <th rowspan=\"2\" valign=\"top\">Asian-Pac-Islander</th>\n",
       "      <th>Female</th>\n",
       "      <td>14562.177778</td>\n",
       "      <td>35.181481</td>\n",
       "      <td>146863.433333</td>\n",
       "      <td>10.325926</td>\n",
       "      <td>584.325926</td>\n",
       "      <td>61.122222</td>\n",
       "      <td>37.407407</td>\n",
       "      <td>0.125926</td>\n",
       "    </tr>\n",
       "    <tr>\n",
       "      <th>Male</th>\n",
       "      <td>12538.909434</td>\n",
       "      <td>38.884906</td>\n",
       "      <td>166262.398113</td>\n",
       "      <td>11.233962</td>\n",
       "      <td>2026.226415</td>\n",
       "      <td>135.403774</td>\n",
       "      <td>42.037736</td>\n",
       "      <td>0.341509</td>\n",
       "    </tr>\n",
       "    <tr>\n",
       "      <th rowspan=\"2\" valign=\"top\">Black</th>\n",
       "      <th>Female</th>\n",
       "      <td>12575.603774</td>\n",
       "      <td>37.939295</td>\n",
       "      <td>216797.705496</td>\n",
       "      <td>9.525021</td>\n",
       "      <td>487.988515</td>\n",
       "      <td>40.462674</td>\n",
       "      <td>36.796555</td>\n",
       "      <td>0.051682</td>\n",
       "    </tr>\n",
       "    <tr>\n",
       "      <th>Male</th>\n",
       "      <td>13192.518695</td>\n",
       "      <td>37.884646</td>\n",
       "      <td>243795.577566</td>\n",
       "      <td>9.482896</td>\n",
       "      <td>579.319809</td>\n",
       "      <td>76.113763</td>\n",
       "      <td>39.976134</td>\n",
       "      <td>0.190135</td>\n",
       "    </tr>\n",
       "    <tr>\n",
       "      <th rowspan=\"2\" valign=\"top\">Other</th>\n",
       "      <th>Female</th>\n",
       "      <td>13165.047059</td>\n",
       "      <td>31.435294</td>\n",
       "      <td>173440.082353</td>\n",
       "      <td>8.941176</td>\n",
       "      <td>236.129412</td>\n",
       "      <td>39.176471</td>\n",
       "      <td>36.670588</td>\n",
       "      <td>0.047059</td>\n",
       "    </tr>\n",
       "    <tr>\n",
       "      <th>Male</th>\n",
       "      <td>11760.907563</td>\n",
       "      <td>34.789916</td>\n",
       "      <td>220238.193277</td>\n",
       "      <td>8.907563</td>\n",
       "      <td>1799.764706</td>\n",
       "      <td>87.529412</td>\n",
       "      <td>41.403361</td>\n",
       "      <td>0.117647</td>\n",
       "    </tr>\n",
       "    <tr>\n",
       "      <th rowspan=\"2\" valign=\"top\">White</th>\n",
       "      <th>Female</th>\n",
       "      <td>13036.291238</td>\n",
       "      <td>36.844026</td>\n",
       "      <td>184007.053584</td>\n",
       "      <td>10.127589</td>\n",
       "      <td>580.929761</td>\n",
       "      <td>63.601738</td>\n",
       "      <td>36.209269</td>\n",
       "      <td>0.122085</td>\n",
       "    </tr>\n",
       "    <tr>\n",
       "      <th>Male</th>\n",
       "      <td>13049.281506</td>\n",
       "      <td>39.589163</td>\n",
       "      <td>189231.912524</td>\n",
       "      <td>10.149254</td>\n",
       "      <td>1386.644906</td>\n",
       "      <td>103.084945</td>\n",
       "      <td>42.687735</td>\n",
       "      <td>0.317846</td>\n",
       "    </tr>\n",
       "  </tbody>\n",
       "</table>\n",
       "</div>"
      ],
      "text/plain": [
       "                                     id        age         fnlwgt  \\\n",
       "race               sex                                              \n",
       "Amer-Indian-Eskimo Female  12309.681818  37.454545  117238.954545   \n",
       "                   Male    12441.331325  36.915663  125551.475904   \n",
       "Asian-Pac-Islander Female  14562.177778  35.181481  146863.433333   \n",
       "                   Male    12538.909434  38.884906  166262.398113   \n",
       "Black              Female  12575.603774  37.939295  216797.705496   \n",
       "                   Male    13192.518695  37.884646  243795.577566   \n",
       "Other              Female  13165.047059  31.435294  173440.082353   \n",
       "                   Male    11760.907563  34.789916  220238.193277   \n",
       "White              Female  13036.291238  36.844026  184007.053584   \n",
       "                   Male    13049.281506  39.589163  189231.912524   \n",
       "\n",
       "                           education_num  capital_gain  capital_loss  \\\n",
       "race               sex                                                 \n",
       "Amer-Indian-Eskimo Female       9.761364    646.636364     19.556818   \n",
       "                   Male         9.090361    649.596386     53.662651   \n",
       "Asian-Pac-Islander Female      10.325926    584.325926     61.122222   \n",
       "                   Male        11.233962   2026.226415    135.403774   \n",
       "Black              Female       9.525021    487.988515     40.462674   \n",
       "                   Male         9.482896    579.319809     76.113763   \n",
       "Other              Female       8.941176    236.129412     39.176471   \n",
       "                   Male         8.907563   1799.764706     87.529412   \n",
       "White              Female      10.127589    580.929761     63.601738   \n",
       "                   Male        10.149254   1386.644906    103.084945   \n",
       "\n",
       "                           hours_per_week    income  \n",
       "race               sex                               \n",
       "Amer-Indian-Eskimo Female       36.204545  0.102273  \n",
       "                   Male         41.837349  0.120482  \n",
       "Asian-Pac-Islander Female       37.407407  0.125926  \n",
       "                   Male         42.037736  0.341509  \n",
       "Black              Female       36.796555  0.051682  \n",
       "                   Male         39.976134  0.190135  \n",
       "Other              Female       36.670588  0.047059  \n",
       "                   Male         41.403361  0.117647  \n",
       "White              Female       36.209269  0.122085  \n",
       "                   Male         42.687735  0.317846  "
      ]
     },
     "execution_count": 13,
     "metadata": {},
     "output_type": "execute_result"
    }
   ],
   "source": [
    "train.groupby(['race', 'sex']).mean()"
   ]
  },
  {
   "cell_type": "code",
   "execution_count": 17,
   "metadata": {},
   "outputs": [
    {
     "data": {
      "text/html": [
       "<style  type=\"text/css\" >\n",
       "#T_3a3af44c_24ac_11eb_8a49_38f9d3e34e9arow0_col0{\n",
       "            background-color:  #e4e3f0;\n",
       "            color:  #000000;\n",
       "        }#T_3a3af44c_24ac_11eb_8a49_38f9d3e34e9arow1_col0{\n",
       "            background-color:  #dadaeb;\n",
       "            color:  #000000;\n",
       "        }#T_3a3af44c_24ac_11eb_8a49_38f9d3e34e9arow2_col0{\n",
       "            background-color:  #d6d6e9;\n",
       "            color:  #000000;\n",
       "        }#T_3a3af44c_24ac_11eb_8a49_38f9d3e34e9arow3_col0{\n",
       "            background-color:  #3f007d;\n",
       "            color:  #f1f1f1;\n",
       "        }#T_3a3af44c_24ac_11eb_8a49_38f9d3e34e9arow4_col0{\n",
       "            background-color:  #faf9fc;\n",
       "            color:  #000000;\n",
       "        }#T_3a3af44c_24ac_11eb_8a49_38f9d3e34e9arow5_col0{\n",
       "            background-color:  #a19eca;\n",
       "            color:  #000000;\n",
       "        }#T_3a3af44c_24ac_11eb_8a49_38f9d3e34e9arow6_col0{\n",
       "            background-color:  #fcfbfd;\n",
       "            color:  #000000;\n",
       "        }#T_3a3af44c_24ac_11eb_8a49_38f9d3e34e9arow7_col0{\n",
       "            background-color:  #dcdcec;\n",
       "            color:  #000000;\n",
       "        }#T_3a3af44c_24ac_11eb_8a49_38f9d3e34e9arow8_col0{\n",
       "            background-color:  #d9d9ea;\n",
       "            color:  #000000;\n",
       "        }#T_3a3af44c_24ac_11eb_8a49_38f9d3e34e9arow9_col0{\n",
       "            background-color:  #4c1888;\n",
       "            color:  #f1f1f1;\n",
       "        }</style><table id=\"T_3a3af44c_24ac_11eb_8a49_38f9d3e34e9a\" ><thead>    <tr>        <th class=\"blank\" ></th>        <th class=\"blank level0\" ></th>        <th class=\"col_heading level0 col0\" >income</th>    </tr>    <tr>        <th class=\"index_name level0\" >race</th>        <th class=\"index_name level1\" >sex</th>        <th class=\"blank\" ></th>    </tr></thead><tbody>\n",
       "                <tr>\n",
       "                        <th id=\"T_3a3af44c_24ac_11eb_8a49_38f9d3e34e9alevel0_row0\" class=\"row_heading level0 row0\" rowspan=2>Amer-Indian-Eskimo</th>\n",
       "                        <th id=\"T_3a3af44c_24ac_11eb_8a49_38f9d3e34e9alevel1_row0\" class=\"row_heading level1 row0\" >Female</th>\n",
       "                        <td id=\"T_3a3af44c_24ac_11eb_8a49_38f9d3e34e9arow0_col0\" class=\"data row0 col0\" >0.102273</td>\n",
       "            </tr>\n",
       "            <tr>\n",
       "                                <th id=\"T_3a3af44c_24ac_11eb_8a49_38f9d3e34e9alevel1_row1\" class=\"row_heading level1 row1\" >Male</th>\n",
       "                        <td id=\"T_3a3af44c_24ac_11eb_8a49_38f9d3e34e9arow1_col0\" class=\"data row1 col0\" >0.120482</td>\n",
       "            </tr>\n",
       "            <tr>\n",
       "                        <th id=\"T_3a3af44c_24ac_11eb_8a49_38f9d3e34e9alevel0_row2\" class=\"row_heading level0 row2\" rowspan=2>Asian-Pac-Islander</th>\n",
       "                        <th id=\"T_3a3af44c_24ac_11eb_8a49_38f9d3e34e9alevel1_row2\" class=\"row_heading level1 row2\" >Female</th>\n",
       "                        <td id=\"T_3a3af44c_24ac_11eb_8a49_38f9d3e34e9arow2_col0\" class=\"data row2 col0\" >0.125926</td>\n",
       "            </tr>\n",
       "            <tr>\n",
       "                                <th id=\"T_3a3af44c_24ac_11eb_8a49_38f9d3e34e9alevel1_row3\" class=\"row_heading level1 row3\" >Male</th>\n",
       "                        <td id=\"T_3a3af44c_24ac_11eb_8a49_38f9d3e34e9arow3_col0\" class=\"data row3 col0\" >0.341509</td>\n",
       "            </tr>\n",
       "            <tr>\n",
       "                        <th id=\"T_3a3af44c_24ac_11eb_8a49_38f9d3e34e9alevel0_row4\" class=\"row_heading level0 row4\" rowspan=2>Black</th>\n",
       "                        <th id=\"T_3a3af44c_24ac_11eb_8a49_38f9d3e34e9alevel1_row4\" class=\"row_heading level1 row4\" >Female</th>\n",
       "                        <td id=\"T_3a3af44c_24ac_11eb_8a49_38f9d3e34e9arow4_col0\" class=\"data row4 col0\" >0.051682</td>\n",
       "            </tr>\n",
       "            <tr>\n",
       "                                <th id=\"T_3a3af44c_24ac_11eb_8a49_38f9d3e34e9alevel1_row5\" class=\"row_heading level1 row5\" >Male</th>\n",
       "                        <td id=\"T_3a3af44c_24ac_11eb_8a49_38f9d3e34e9arow5_col0\" class=\"data row5 col0\" >0.190135</td>\n",
       "            </tr>\n",
       "            <tr>\n",
       "                        <th id=\"T_3a3af44c_24ac_11eb_8a49_38f9d3e34e9alevel0_row6\" class=\"row_heading level0 row6\" rowspan=2>Other</th>\n",
       "                        <th id=\"T_3a3af44c_24ac_11eb_8a49_38f9d3e34e9alevel1_row6\" class=\"row_heading level1 row6\" >Female</th>\n",
       "                        <td id=\"T_3a3af44c_24ac_11eb_8a49_38f9d3e34e9arow6_col0\" class=\"data row6 col0\" >0.047059</td>\n",
       "            </tr>\n",
       "            <tr>\n",
       "                                <th id=\"T_3a3af44c_24ac_11eb_8a49_38f9d3e34e9alevel1_row7\" class=\"row_heading level1 row7\" >Male</th>\n",
       "                        <td id=\"T_3a3af44c_24ac_11eb_8a49_38f9d3e34e9arow7_col0\" class=\"data row7 col0\" >0.117647</td>\n",
       "            </tr>\n",
       "            <tr>\n",
       "                        <th id=\"T_3a3af44c_24ac_11eb_8a49_38f9d3e34e9alevel0_row8\" class=\"row_heading level0 row8\" rowspan=2>White</th>\n",
       "                        <th id=\"T_3a3af44c_24ac_11eb_8a49_38f9d3e34e9alevel1_row8\" class=\"row_heading level1 row8\" >Female</th>\n",
       "                        <td id=\"T_3a3af44c_24ac_11eb_8a49_38f9d3e34e9arow8_col0\" class=\"data row8 col0\" >0.122085</td>\n",
       "            </tr>\n",
       "            <tr>\n",
       "                                <th id=\"T_3a3af44c_24ac_11eb_8a49_38f9d3e34e9alevel1_row9\" class=\"row_heading level1 row9\" >Male</th>\n",
       "                        <td id=\"T_3a3af44c_24ac_11eb_8a49_38f9d3e34e9arow9_col0\" class=\"data row9 col0\" >0.317846</td>\n",
       "            </tr>\n",
       "    </tbody></table>"
      ],
      "text/plain": [
       "<pandas.io.formats.style.Styler at 0x11a353f98>"
      ]
     },
     "execution_count": 17,
     "metadata": {},
     "output_type": "execute_result"
    }
   ],
   "source": [
    "train.groupby(['race', 'sex'])[['income']].mean().style.background_gradient(cmap='Purples')"
   ]
  },
  {
   "cell_type": "code",
   "execution_count": 20,
   "metadata": {},
   "outputs": [
    {
     "data": {
      "text/html": [
       "<div>\n",
       "<style scoped>\n",
       "    .dataframe tbody tr th:only-of-type {\n",
       "        vertical-align: middle;\n",
       "    }\n",
       "\n",
       "    .dataframe tbody tr th {\n",
       "        vertical-align: top;\n",
       "    }\n",
       "\n",
       "    .dataframe thead th {\n",
       "        text-align: right;\n",
       "    }\n",
       "</style>\n",
       "<table border=\"1\" class=\"dataframe\">\n",
       "  <thead>\n",
       "    <tr style=\"text-align: right;\">\n",
       "      <th>sex</th>\n",
       "      <th>Female</th>\n",
       "      <th>Male</th>\n",
       "    </tr>\n",
       "    <tr>\n",
       "      <th>race</th>\n",
       "      <th></th>\n",
       "      <th></th>\n",
       "    </tr>\n",
       "  </thead>\n",
       "  <tbody>\n",
       "    <tr>\n",
       "      <th>Amer-Indian-Eskimo</th>\n",
       "      <td>9</td>\n",
       "      <td>20</td>\n",
       "    </tr>\n",
       "    <tr>\n",
       "      <th>Asian-Pac-Islander</th>\n",
       "      <td>34</td>\n",
       "      <td>181</td>\n",
       "    </tr>\n",
       "    <tr>\n",
       "      <th>Black</th>\n",
       "      <td>63</td>\n",
       "      <td>239</td>\n",
       "    </tr>\n",
       "    <tr>\n",
       "      <th>Other</th>\n",
       "      <td>4</td>\n",
       "      <td>14</td>\n",
       "    </tr>\n",
       "    <tr>\n",
       "      <th>White</th>\n",
       "      <td>843</td>\n",
       "      <td>4898</td>\n",
       "    </tr>\n",
       "  </tbody>\n",
       "</table>\n",
       "</div>"
      ],
      "text/plain": [
       "sex                 Female  Male\n",
       "race                            \n",
       "Amer-Indian-Eskimo       9    20\n",
       "Asian-Pac-Islander      34   181\n",
       "Black                   63   239\n",
       "Other                    4    14\n",
       "White                  843  4898"
      ]
     },
     "execution_count": 20,
     "metadata": {},
     "output_type": "execute_result"
    }
   ],
   "source": [
    "pd.pivot_table(train,\n",
    "              columns='sex',\n",
    "              index='race',\n",
    "              values='income',\n",
    "              aggfunc='sum')"
   ]
  },
  {
   "cell_type": "code",
   "execution_count": 21,
   "metadata": {},
   "outputs": [
    {
     "data": {
      "image/png": "[encoded data removed]",
      "text/plain": [
       "<Figure size 864x360 with 1 Axes>"
      ]
     },
     "metadata": {
      "needs_background": "light"
     },
     "output_type": "display_data"
    }
   ],
   "source": [
    "fig, ar = plt.subplots(1,1, figsize=(12,5))\n",
    "\n",
    "sns.boxenplot(data=train, x='race', y='age', hue='sex')\n",
    "\n",
    "plt.show()"
   ]
  },
  {
   "cell_type": "code",
   "execution_count": 22,
   "metadata": {},
   "outputs": [
    {
     "data": {
      "text/plain": [
       "<Signature (x, notch=None, sym=None, vert=None, whis=None, positions=None, widths=None, patch_artist=None, bootstrap=None, usermedians=None, conf_intervals=None, meanline=None, showmeans=None, showcaps=None, showbox=None, showfliers=None, boxprops=None, labels=None, flierprops=None, medianprops=None, meanprops=None, capprops=None, whiskerprops=None, manage_ticks=True, autorange=False, zorder=None, *, data=None)>"
      ]
     },
     "execution_count": 22,
     "metadata": {},
     "output_type": "execute_result"
    }
   ],
   "source": [
    "signature(plt.boxplot)"
   ]
  },
  {
   "cell_type": "code",
   "execution_count": 32,
   "metadata": {},
   "outputs": [
    {
     "data": {
      "text/plain": [
       "<AxesSubplot:xlabel='race', ylabel='age'>"
      ]
     },
     "execution_count": 32,
     "metadata": {},
     "output_type": "execute_result"
    },
    {
     "data": {
      "image/png": "[encoded data removed]",
      "text/plain": [
       "<Figure size 720x432 with 1 Axes>"
      ]
     },
     "metadata": {
      "needs_background": "light"
     },
     "output_type": "display_data"
    }
   ],
   "source": [
    "fig, ax = plt.subplots(1,1, figsize=(10, 6))\n",
    "sns.boxplot(data=train, x='race', y='age', hue='sex')"
   ]
  },
  {
   "cell_type": "code",
   "execution_count": 33,
   "metadata": {},
   "outputs": [
    {
     "data": {
      "text/plain": [
       "<AxesSubplot:xlabel='race', ylabel='hours_per_week'>"
      ]
     },
     "execution_count": 33,
     "metadata": {},
     "output_type": "execute_result"
    },
    {
     "data": {
      "image/png": "[encoded data removed]",
      "text/plain": [
       "<Figure size 720x432 with 1 Axes>"
      ]
     },
     "metadata": {
      "needs_background": "light"
     },
     "output_type": "display_data"
    }
   ],
   "source": [
    "fig, ax = plt.subplots(1,1, figsize=(10, 6))\n",
    "sns.violinplot(data=train, x='race', y = 'hours_per_week')"
   ]
  },
  {
   "cell_type": "code",
   "execution_count": 37,
   "metadata": {
    "scrolled": true
   },
   "outputs": [
    {
     "data": {
      "text/html": [
       "<style  type=\"text/css\" >\n",
       "#T_def2370a_24ae_11eb_b666_38f9d3e34e9arow0_col0,#T_def2370a_24ae_11eb_b666_38f9d3e34e9arow1_col1,#T_def2370a_24ae_11eb_b666_38f9d3e34e9arow2_col2,#T_def2370a_24ae_11eb_b666_38f9d3e34e9arow3_col3,#T_def2370a_24ae_11eb_b666_38f9d3e34e9arow4_col4,#T_def2370a_24ae_11eb_b666_38f9d3e34e9arow5_col5,#T_def2370a_24ae_11eb_b666_38f9d3e34e9arow6_col6,#T_def2370a_24ae_11eb_b666_38f9d3e34e9arow7_col7{\n",
       "            background-color:  #b40426;\n",
       "            color:  #f1f1f1;\n",
       "        }#T_def2370a_24ae_11eb_b666_38f9d3e34e9arow0_col1{\n",
       "            background-color:  #536edd;\n",
       "            color:  #000000;\n",
       "        }#T_def2370a_24ae_11eb_b666_38f9d3e34e9arow0_col2{\n",
       "            background-color:  #4f69d9;\n",
       "            color:  #000000;\n",
       "        }#T_def2370a_24ae_11eb_b666_38f9d3e34e9arow0_col3{\n",
       "            background-color:  #485fd1;\n",
       "            color:  #f1f1f1;\n",
       "        }#T_def2370a_24ae_11eb_b666_38f9d3e34e9arow0_col4{\n",
       "            background-color:  #455cce;\n",
       "            color:  #f1f1f1;\n",
       "        }#T_def2370a_24ae_11eb_b666_38f9d3e34e9arow0_col5,#T_def2370a_24ae_11eb_b666_38f9d3e34e9arow3_col2{\n",
       "            background-color:  #4358cb;\n",
       "            color:  #f1f1f1;\n",
       "        }#T_def2370a_24ae_11eb_b666_38f9d3e34e9arow0_col6{\n",
       "            background-color:  #4257c9;\n",
       "            color:  #f1f1f1;\n",
       "        }#T_def2370a_24ae_11eb_b666_38f9d3e34e9arow0_col7{\n",
       "            background-color:  #3e51c5;\n",
       "            color:  #f1f1f1;\n",
       "        }#T_def2370a_24ae_11eb_b666_38f9d3e34e9arow1_col0,#T_def2370a_24ae_11eb_b666_38f9d3e34e9arow4_col0,#T_def2370a_24ae_11eb_b666_38f9d3e34e9arow6_col0{\n",
       "            background-color:  #3d50c3;\n",
       "            color:  #f1f1f1;\n",
       "        }#T_def2370a_24ae_11eb_b666_38f9d3e34e9arow1_col2,#T_def2370a_24ae_11eb_b666_38f9d3e34e9arow2_col0,#T_def2370a_24ae_11eb_b666_38f9d3e34e9arow2_col1,#T_def2370a_24ae_11eb_b666_38f9d3e34e9arow2_col3,#T_def2370a_24ae_11eb_b666_38f9d3e34e9arow2_col6,#T_def2370a_24ae_11eb_b666_38f9d3e34e9arow2_col7,#T_def2370a_24ae_11eb_b666_38f9d3e34e9arow4_col5,#T_def2370a_24ae_11eb_b666_38f9d3e34e9arow5_col0,#T_def2370a_24ae_11eb_b666_38f9d3e34e9arow5_col4{\n",
       "            background-color:  #3b4cc0;\n",
       "            color:  #f1f1f1;\n",
       "        }#T_def2370a_24ae_11eb_b666_38f9d3e34e9arow1_col3,#T_def2370a_24ae_11eb_b666_38f9d3e34e9arow1_col6,#T_def2370a_24ae_11eb_b666_38f9d3e34e9arow6_col5{\n",
       "            background-color:  #5470de;\n",
       "            color:  #000000;\n",
       "        }#T_def2370a_24ae_11eb_b666_38f9d3e34e9arow1_col4,#T_def2370a_24ae_11eb_b666_38f9d3e34e9arow3_col1,#T_def2370a_24ae_11eb_b666_38f9d3e34e9arow6_col4{\n",
       "            background-color:  #5b7ae5;\n",
       "            color:  #000000;\n",
       "        }#T_def2370a_24ae_11eb_b666_38f9d3e34e9arow1_col5{\n",
       "            background-color:  #5572df;\n",
       "            color:  #000000;\n",
       "        }#T_def2370a_24ae_11eb_b666_38f9d3e34e9arow1_col7{\n",
       "            background-color:  #88abfd;\n",
       "            color:  #000000;\n",
       "        }#T_def2370a_24ae_11eb_b666_38f9d3e34e9arow2_col4{\n",
       "            background-color:  #445acc;\n",
       "            color:  #f1f1f1;\n",
       "        }#T_def2370a_24ae_11eb_b666_38f9d3e34e9arow2_col5{\n",
       "            background-color:  #4055c8;\n",
       "            color:  #f1f1f1;\n",
       "        }#T_def2370a_24ae_11eb_b666_38f9d3e34e9arow3_col0,#T_def2370a_24ae_11eb_b666_38f9d3e34e9arow7_col0{\n",
       "            background-color:  #3c4ec2;\n",
       "            color:  #f1f1f1;\n",
       "        }#T_def2370a_24ae_11eb_b666_38f9d3e34e9arow3_col4{\n",
       "            background-color:  #688aef;\n",
       "            color:  #000000;\n",
       "        }#T_def2370a_24ae_11eb_b666_38f9d3e34e9arow3_col5{\n",
       "            background-color:  #5a78e4;\n",
       "            color:  #000000;\n",
       "        }#T_def2370a_24ae_11eb_b666_38f9d3e34e9arow3_col6{\n",
       "            background-color:  #6e90f2;\n",
       "            color:  #000000;\n",
       "        }#T_def2370a_24ae_11eb_b666_38f9d3e34e9arow3_col7{\n",
       "            background-color:  #abc8fd;\n",
       "            color:  #000000;\n",
       "        }#T_def2370a_24ae_11eb_b666_38f9d3e34e9arow4_col1{\n",
       "            background-color:  #6788ee;\n",
       "            color:  #000000;\n",
       "        }#T_def2370a_24ae_11eb_b666_38f9d3e34e9arow4_col2,#T_def2370a_24ae_11eb_b666_38f9d3e34e9arow5_col6{\n",
       "            background-color:  #506bda;\n",
       "            color:  #000000;\n",
       "        }#T_def2370a_24ae_11eb_b666_38f9d3e34e9arow4_col3,#T_def2370a_24ae_11eb_b666_38f9d3e34e9arow5_col7{\n",
       "            background-color:  #6c8ff1;\n",
       "            color:  #000000;\n",
       "        }#T_def2370a_24ae_11eb_b666_38f9d3e34e9arow4_col6{\n",
       "            background-color:  #5977e3;\n",
       "            color:  #000000;\n",
       "        }#T_def2370a_24ae_11eb_b666_38f9d3e34e9arow4_col7{\n",
       "            background-color:  #86a9fc;\n",
       "            color:  #000000;\n",
       "        }#T_def2370a_24ae_11eb_b666_38f9d3e34e9arow5_col1{\n",
       "            background-color:  #6180e9;\n",
       "            color:  #000000;\n",
       "        }#T_def2370a_24ae_11eb_b666_38f9d3e34e9arow5_col2,#T_def2370a_24ae_11eb_b666_38f9d3e34e9arow7_col2{\n",
       "            background-color:  #4e68d8;\n",
       "            color:  #000000;\n",
       "        }#T_def2370a_24ae_11eb_b666_38f9d3e34e9arow5_col3{\n",
       "            background-color:  #5e7de7;\n",
       "            color:  #000000;\n",
       "        }#T_def2370a_24ae_11eb_b666_38f9d3e34e9arow6_col1{\n",
       "            background-color:  #6384eb;\n",
       "            color:  #000000;\n",
       "        }#T_def2370a_24ae_11eb_b666_38f9d3e34e9arow6_col2{\n",
       "            background-color:  #4a63d3;\n",
       "            color:  #f1f1f1;\n",
       "        }#T_def2370a_24ae_11eb_b666_38f9d3e34e9arow6_col3{\n",
       "            background-color:  #7699f6;\n",
       "            color:  #000000;\n",
       "        }#T_def2370a_24ae_11eb_b666_38f9d3e34e9arow6_col7{\n",
       "            background-color:  #89acfd;\n",
       "            color:  #000000;\n",
       "        }#T_def2370a_24ae_11eb_b666_38f9d3e34e9arow7_col1{\n",
       "            background-color:  #98b9ff;\n",
       "            color:  #000000;\n",
       "        }#T_def2370a_24ae_11eb_b666_38f9d3e34e9arow7_col3{\n",
       "            background-color:  #b5cdfa;\n",
       "            color:  #000000;\n",
       "        }#T_def2370a_24ae_11eb_b666_38f9d3e34e9arow7_col4,#T_def2370a_24ae_11eb_b666_38f9d3e34e9arow7_col6{\n",
       "            background-color:  #8caffe;\n",
       "            color:  #000000;\n",
       "        }#T_def2370a_24ae_11eb_b666_38f9d3e34e9arow7_col5{\n",
       "            background-color:  #7396f5;\n",
       "            color:  #000000;\n",
       "        }</style><table id=\"T_def2370a_24ae_11eb_b666_38f9d3e34e9a\" ><thead>    <tr>        <th class=\"blank level0\" ></th>        <th class=\"col_heading level0 col0\" >id</th>        <th class=\"col_heading level0 col1\" >age</th>        <th class=\"col_heading level0 col2\" >fnlwgt</th>        <th class=\"col_heading level0 col3\" >education_num</th>        <th class=\"col_heading level0 col4\" >capital_gain</th>        <th class=\"col_heading level0 col5\" >capital_loss</th>        <th class=\"col_heading level0 col6\" >hours_per_week</th>        <th class=\"col_heading level0 col7\" >income</th>    </tr></thead><tbody>\n",
       "                <tr>\n",
       "                        <th id=\"T_def2370a_24ae_11eb_b666_38f9d3e34e9alevel0_row0\" class=\"row_heading level0 row0\" >id</th>\n",
       "                        <td id=\"T_def2370a_24ae_11eb_b666_38f9d3e34e9arow0_col0\" class=\"data row0 col0\" >1.000000</td>\n",
       "                        <td id=\"T_def2370a_24ae_11eb_b666_38f9d3e34e9arow0_col1\" class=\"data row0 col1\" >0.007866</td>\n",
       "                        <td id=\"T_def2370a_24ae_11eb_b666_38f9d3e34e9arow0_col2\" class=\"data row0 col2\" >-0.001191</td>\n",
       "                        <td id=\"T_def2370a_24ae_11eb_b666_38f9d3e34e9arow0_col3\" class=\"data row0 col3\" >0.002309</td>\n",
       "                        <td id=\"T_def2370a_24ae_11eb_b666_38f9d3e34e9arow0_col4\" class=\"data row0 col4\" >0.007228</td>\n",
       "                        <td id=\"T_def2370a_24ae_11eb_b666_38f9d3e34e9arow0_col5\" class=\"data row0 col5\" >-0.002553</td>\n",
       "                        <td id=\"T_def2370a_24ae_11eb_b666_38f9d3e34e9arow0_col6\" class=\"data row0 col6\" >0.005749</td>\n",
       "                        <td id=\"T_def2370a_24ae_11eb_b666_38f9d3e34e9arow0_col7\" class=\"data row0 col7\" >0.004350</td>\n",
       "            </tr>\n",
       "            <tr>\n",
       "                        <th id=\"T_def2370a_24ae_11eb_b666_38f9d3e34e9alevel0_row1\" class=\"row_heading level0 row1\" >age</th>\n",
       "                        <td id=\"T_def2370a_24ae_11eb_b666_38f9d3e34e9arow1_col0\" class=\"data row1 col0\" >0.007866</td>\n",
       "                        <td id=\"T_def2370a_24ae_11eb_b666_38f9d3e34e9arow1_col1\" class=\"data row1 col1\" >1.000000</td>\n",
       "                        <td id=\"T_def2370a_24ae_11eb_b666_38f9d3e34e9arow1_col2\" class=\"data row1 col2\" >-0.076618</td>\n",
       "                        <td id=\"T_def2370a_24ae_11eb_b666_38f9d3e34e9arow1_col3\" class=\"data row1 col3\" >0.040107</td>\n",
       "                        <td id=\"T_def2370a_24ae_11eb_b666_38f9d3e34e9arow1_col4\" class=\"data row1 col4\" >0.077768</td>\n",
       "                        <td id=\"T_def2370a_24ae_11eb_b666_38f9d3e34e9arow1_col5\" class=\"data row1 col5\" >0.057875</td>\n",
       "                        <td id=\"T_def2370a_24ae_11eb_b666_38f9d3e34e9arow1_col6\" class=\"data row1 col6\" >0.066038</td>\n",
       "                        <td id=\"T_def2370a_24ae_11eb_b666_38f9d3e34e9arow1_col7\" class=\"data row1 col7\" >0.229292</td>\n",
       "            </tr>\n",
       "            <tr>\n",
       "                        <th id=\"T_def2370a_24ae_11eb_b666_38f9d3e34e9alevel0_row2\" class=\"row_heading level0 row2\" >fnlwgt</th>\n",
       "                        <td id=\"T_def2370a_24ae_11eb_b666_38f9d3e34e9arow2_col0\" class=\"data row2 col0\" >-0.001191</td>\n",
       "                        <td id=\"T_def2370a_24ae_11eb_b666_38f9d3e34e9arow2_col1\" class=\"data row2 col1\" >-0.076618</td>\n",
       "                        <td id=\"T_def2370a_24ae_11eb_b666_38f9d3e34e9arow2_col2\" class=\"data row2 col2\" >1.000000</td>\n",
       "                        <td id=\"T_def2370a_24ae_11eb_b666_38f9d3e34e9arow2_col3\" class=\"data row2 col3\" >-0.046377</td>\n",
       "                        <td id=\"T_def2370a_24ae_11eb_b666_38f9d3e34e9arow2_col4\" class=\"data row2 col4\" >0.000953</td>\n",
       "                        <td id=\"T_def2370a_24ae_11eb_b666_38f9d3e34e9arow2_col5\" class=\"data row2 col5\" >-0.008689</td>\n",
       "                        <td id=\"T_def2370a_24ae_11eb_b666_38f9d3e34e9arow2_col6\" class=\"data row2 col6\" >-0.020064</td>\n",
       "                        <td id=\"T_def2370a_24ae_11eb_b666_38f9d3e34e9arow2_col7\" class=\"data row2 col7\" >-0.007500</td>\n",
       "            </tr>\n",
       "            <tr>\n",
       "                        <th id=\"T_def2370a_24ae_11eb_b666_38f9d3e34e9alevel0_row3\" class=\"row_heading level0 row3\" >education_num</th>\n",
       "                        <td id=\"T_def2370a_24ae_11eb_b666_38f9d3e34e9arow3_col0\" class=\"data row3 col0\" >0.002309</td>\n",
       "                        <td id=\"T_def2370a_24ae_11eb_b666_38f9d3e34e9arow3_col1\" class=\"data row3 col1\" >0.040107</td>\n",
       "                        <td id=\"T_def2370a_24ae_11eb_b666_38f9d3e34e9arow3_col2\" class=\"data row3 col2\" >-0.046377</td>\n",
       "                        <td id=\"T_def2370a_24ae_11eb_b666_38f9d3e34e9arow3_col3\" class=\"data row3 col3\" >1.000000</td>\n",
       "                        <td id=\"T_def2370a_24ae_11eb_b666_38f9d3e34e9arow3_col4\" class=\"data row3 col4\" >0.119382</td>\n",
       "                        <td id=\"T_def2370a_24ae_11eb_b666_38f9d3e34e9arow3_col5\" class=\"data row3 col5\" >0.074813</td>\n",
       "                        <td id=\"T_def2370a_24ae_11eb_b666_38f9d3e34e9arow3_col6\" class=\"data row3 col6\" >0.146063</td>\n",
       "                        <td id=\"T_def2370a_24ae_11eb_b666_38f9d3e34e9arow3_col7\" class=\"data row3 col7\" >0.334582</td>\n",
       "            </tr>\n",
       "            <tr>\n",
       "                        <th id=\"T_def2370a_24ae_11eb_b666_38f9d3e34e9alevel0_row4\" class=\"row_heading level0 row4\" >capital_gain</th>\n",
       "                        <td id=\"T_def2370a_24ae_11eb_b666_38f9d3e34e9arow4_col0\" class=\"data row4 col0\" >0.007228</td>\n",
       "                        <td id=\"T_def2370a_24ae_11eb_b666_38f9d3e34e9arow4_col1\" class=\"data row4 col1\" >0.077768</td>\n",
       "                        <td id=\"T_def2370a_24ae_11eb_b666_38f9d3e34e9arow4_col2\" class=\"data row4 col2\" >0.000953</td>\n",
       "                        <td id=\"T_def2370a_24ae_11eb_b666_38f9d3e34e9arow4_col3\" class=\"data row4 col3\" >0.119382</td>\n",
       "                        <td id=\"T_def2370a_24ae_11eb_b666_38f9d3e34e9arow4_col4\" class=\"data row4 col4\" >1.000000</td>\n",
       "                        <td id=\"T_def2370a_24ae_11eb_b666_38f9d3e34e9arow4_col5\" class=\"data row4 col5\" >-0.032030</td>\n",
       "                        <td id=\"T_def2370a_24ae_11eb_b666_38f9d3e34e9arow4_col6\" class=\"data row4 col6\" >0.080543</td>\n",
       "                        <td id=\"T_def2370a_24ae_11eb_b666_38f9d3e34e9arow4_col7\" class=\"data row4 col7\" >0.225296</td>\n",
       "            </tr>\n",
       "            <tr>\n",
       "                        <th id=\"T_def2370a_24ae_11eb_b666_38f9d3e34e9alevel0_row5\" class=\"row_heading level0 row5\" >capital_loss</th>\n",
       "                        <td id=\"T_def2370a_24ae_11eb_b666_38f9d3e34e9arow5_col0\" class=\"data row5 col0\" >-0.002553</td>\n",
       "                        <td id=\"T_def2370a_24ae_11eb_b666_38f9d3e34e9arow5_col1\" class=\"data row5 col1\" >0.057875</td>\n",
       "                        <td id=\"T_def2370a_24ae_11eb_b666_38f9d3e34e9arow5_col2\" class=\"data row5 col2\" >-0.008689</td>\n",
       "                        <td id=\"T_def2370a_24ae_11eb_b666_38f9d3e34e9arow5_col3\" class=\"data row5 col3\" >0.074813</td>\n",
       "                        <td id=\"T_def2370a_24ae_11eb_b666_38f9d3e34e9arow5_col4\" class=\"data row5 col4\" >-0.032030</td>\n",
       "                        <td id=\"T_def2370a_24ae_11eb_b666_38f9d3e34e9arow5_col5\" class=\"data row5 col5\" >1.000000</td>\n",
       "                        <td id=\"T_def2370a_24ae_11eb_b666_38f9d3e34e9arow5_col6\" class=\"data row5 col6\" >0.054957</td>\n",
       "                        <td id=\"T_def2370a_24ae_11eb_b666_38f9d3e34e9arow5_col7\" class=\"data row5 col7\" >0.152537</td>\n",
       "            </tr>\n",
       "            <tr>\n",
       "                        <th id=\"T_def2370a_24ae_11eb_b666_38f9d3e34e9alevel0_row6\" class=\"row_heading level0 row6\" >hours_per_week</th>\n",
       "                        <td id=\"T_def2370a_24ae_11eb_b666_38f9d3e34e9arow6_col0\" class=\"data row6 col0\" >0.005749</td>\n",
       "                        <td id=\"T_def2370a_24ae_11eb_b666_38f9d3e34e9arow6_col1\" class=\"data row6 col1\" >0.066038</td>\n",
       "                        <td id=\"T_def2370a_24ae_11eb_b666_38f9d3e34e9arow6_col2\" class=\"data row6 col2\" >-0.020064</td>\n",
       "                        <td id=\"T_def2370a_24ae_11eb_b666_38f9d3e34e9arow6_col3\" class=\"data row6 col3\" >0.146063</td>\n",
       "                        <td id=\"T_def2370a_24ae_11eb_b666_38f9d3e34e9arow6_col4\" class=\"data row6 col4\" >0.080543</td>\n",
       "                        <td id=\"T_def2370a_24ae_11eb_b666_38f9d3e34e9arow6_col5\" class=\"data row6 col5\" >0.054957</td>\n",
       "                        <td id=\"T_def2370a_24ae_11eb_b666_38f9d3e34e9arow6_col6\" class=\"data row6 col6\" >1.000000</td>\n",
       "                        <td id=\"T_def2370a_24ae_11eb_b666_38f9d3e34e9arow6_col7\" class=\"data row6 col7\" >0.233726</td>\n",
       "            </tr>\n",
       "            <tr>\n",
       "                        <th id=\"T_def2370a_24ae_11eb_b666_38f9d3e34e9alevel0_row7\" class=\"row_heading level0 row7\" >income</th>\n",
       "                        <td id=\"T_def2370a_24ae_11eb_b666_38f9d3e34e9arow7_col0\" class=\"data row7 col0\" >0.004350</td>\n",
       "                        <td id=\"T_def2370a_24ae_11eb_b666_38f9d3e34e9arow7_col1\" class=\"data row7 col1\" >0.229292</td>\n",
       "                        <td id=\"T_def2370a_24ae_11eb_b666_38f9d3e34e9arow7_col2\" class=\"data row7 col2\" >-0.007500</td>\n",
       "                        <td id=\"T_def2370a_24ae_11eb_b666_38f9d3e34e9arow7_col3\" class=\"data row7 col3\" >0.334582</td>\n",
       "                        <td id=\"T_def2370a_24ae_11eb_b666_38f9d3e34e9arow7_col4\" class=\"data row7 col4\" >0.225296</td>\n",
       "                        <td id=\"T_def2370a_24ae_11eb_b666_38f9d3e34e9arow7_col5\" class=\"data row7 col5\" >0.152537</td>\n",
       "                        <td id=\"T_def2370a_24ae_11eb_b666_38f9d3e34e9arow7_col6\" class=\"data row7 col6\" >0.233726</td>\n",
       "                        <td id=\"T_def2370a_24ae_11eb_b666_38f9d3e34e9arow7_col7\" class=\"data row7 col7\" >1.000000</td>\n",
       "            </tr>\n",
       "    </tbody></table>"
      ],
      "text/plain": [
       "<pandas.io.formats.style.Styler at 0x1215c2be0>"
      ]
     },
     "execution_count": 37,
     "metadata": {},
     "output_type": "execute_result"
    }
   ],
   "source": [
    "# 상관계수 살피기 \n",
    "\n",
    "# 피어슨 상관계수는 정상관여부로 살필 수 있음\n",
    "\n",
    "train.corr().style.background_gradient(cmap='coolwarm')"
   ]
  },
  {
   "cell_type": "code",
   "execution_count": 43,
   "metadata": {},
   "outputs": [
    {
     "data": {
      "text/plain": [
       "<AxesSubplot:>"
      ]
     },
     "execution_count": 43,
     "metadata": {},
     "output_type": "execute_result"
    },
    {
     "data": {
      "image/png": "[encoded data removed]",
      "text/plain": [
       "<Figure size 576x576 with 2 Axes>"
      ]
     },
     "metadata": {},
     "output_type": "display_data"
    }
   ],
   "source": [
    "corr = train.corr()\n",
    "\n",
    "fig, ax = plt.subplots(1,1, figsize=(8, 8))\n",
    "sns.heatmap(corr, square=True, linewidths=.1, linecolor='white', \n",
    "            cmap='coolwarm', vmax=1.0, vmin=-1.0)"
   ]
  },
  {
   "cell_type": "code",
   "execution_count": null,
   "metadata": {},
   "outputs": [],
   "source": [
    "import matplotlib.pyplot as plt\n",
    "import seaborn as sns\n",
    "sns.set_theme()\n",
    "\n",
    "# Load the example flights dataset and convert to long-form\n",
    "flights_long = train\n",
    "flights = flights_long.pivot(train[\"race\", \"sex\", \"income\"])\n",
    "\n",
    "# Draw a heatmap with the numeric values in each cell\n",
    "f, ax = plt.subplots(figsize=(9, 6))\n",
    "sns.heatmap(flights, annot=True, fmt=\"d\", linewidths=.5, ax=ax)"
   ]
  },
  {
   "cell_type": "markdown",
   "metadata": {},
   "source": [
    "데이터별 관계 \n",
    "train data와 test data 간의 분포 비교\n",
    "데이터 간의 구성 / 관계 / 분포 살피기\n"
   ]
  },
  {
   "cell_type": "raw",
   "metadata": {},
   "source": [
    "점수 도출\n",
    "\n",
    "데이터 분포에 따라 accuracy 점수가 의미가 없을 때도 있어 f1 score를 사용한다고 함 \n",
    "제출 파일은 2개만 선택 가능\n",
    "\n",
    "전체 데이터 중에 34%만 추출해서 본인이 작성한 모델에 돌려서 점수를 낸것이 퍼블릭\n",
    "프라이빗은 66%의 데이터를 돌려서 도출된 결과 점수(프라이빗 모델은 2개만 선정해서 제출할 수 있음)\n",
    "\n",
    "==================================================\n",
    "\n",
    "퍼블릭은 점수를 바로 확인 할 수 있음 "
   ]
  },
  {
   "cell_type": "markdown",
   "metadata": {},
   "source": [
    "## 모델에 적합한 input 형태로 만들기\n",
    "\n",
    "x, y(target) 형태로 나누어 모델에 넣어야함. "
   ]
  },
  {
   "cell_type": "code",
   "execution_count": 46,
   "metadata": {},
   "outputs": [
    {
     "name": "stderr",
     "output_type": "stream",
     "text": [
      "/Users/lucia/.pyenv/versions/3.6.1/lib/python3.6/site-packages/pandas/core/computation/expressions.py:68: FutureWarning: elementwise comparison failed; returning scalar instead, but in the future will perform elementwise comparison\n",
      "  return op(a, b)\n"
     ]
    }
   ],
   "source": [
    "target = (train['income'] != '<=50K').astype(int)"
   ]
  },
  {
   "cell_type": "code",
   "execution_count": 48,
   "metadata": {},
   "outputs": [
    {
     "ename": "KeyError",
     "evalue": "\"['income'] not found in axis\"",
     "output_type": "error",
     "traceback": [
      "\u001b[0;31m---------------------------------------------------------------------------\u001b[0m",
      "\u001b[0;31mKeyError\u001b[0m                                  Traceback (most recent call last)",
      "\u001b[0;32m<ipython-input-48-086c44e68642>\u001b[0m in \u001b[0;36m<module>\u001b[0;34m\u001b[0m\n\u001b[0;32m----> 1\u001b[0;31m \u001b[0mtrain\u001b[0m\u001b[0;34m.\u001b[0m\u001b[0mdrop\u001b[0m\u001b[0;34m(\u001b[0m\u001b[0;34m[\u001b[0m\u001b[0;34m'income'\u001b[0m\u001b[0;34m]\u001b[0m\u001b[0;34m,\u001b[0m \u001b[0maxis\u001b[0m\u001b[0;34m=\u001b[0m\u001b[0;36m1\u001b[0m\u001b[0;34m,\u001b[0m \u001b[0minplace\u001b[0m\u001b[0;34m=\u001b[0m\u001b[0;32mTrue\u001b[0m\u001b[0;34m)\u001b[0m\u001b[0;34m\u001b[0m\u001b[0m\n\u001b[0m",
      "\u001b[0;32m~/.pyenv/versions/3.6.1/lib/python3.6/site-packages/pandas/core/frame.py\u001b[0m in \u001b[0;36mdrop\u001b[0;34m(self, labels, axis, index, columns, level, inplace, errors)\u001b[0m\n\u001b[1;32m   4167\u001b[0m             \u001b[0mlevel\u001b[0m\u001b[0;34m=\u001b[0m\u001b[0mlevel\u001b[0m\u001b[0;34m,\u001b[0m\u001b[0;34m\u001b[0m\u001b[0m\n\u001b[1;32m   4168\u001b[0m             \u001b[0minplace\u001b[0m\u001b[0;34m=\u001b[0m\u001b[0minplace\u001b[0m\u001b[0;34m,\u001b[0m\u001b[0;34m\u001b[0m\u001b[0m\n\u001b[0;32m-> 4169\u001b[0;31m             \u001b[0merrors\u001b[0m\u001b[0;34m=\u001b[0m\u001b[0merrors\u001b[0m\u001b[0;34m,\u001b[0m\u001b[0;34m\u001b[0m\u001b[0m\n\u001b[0m\u001b[1;32m   4170\u001b[0m         )\n\u001b[1;32m   4171\u001b[0m \u001b[0;34m\u001b[0m\u001b[0m\n",
      "\u001b[0;32m~/.pyenv/versions/3.6.1/lib/python3.6/site-packages/pandas/core/generic.py\u001b[0m in \u001b[0;36mdrop\u001b[0;34m(self, labels, axis, index, columns, level, inplace, errors)\u001b[0m\n\u001b[1;32m   3882\u001b[0m         \u001b[0;32mfor\u001b[0m \u001b[0maxis\u001b[0m\u001b[0;34m,\u001b[0m \u001b[0mlabels\u001b[0m \u001b[0;32min\u001b[0m \u001b[0maxes\u001b[0m\u001b[0;34m.\u001b[0m\u001b[0mitems\u001b[0m\u001b[0;34m(\u001b[0m\u001b[0;34m)\u001b[0m\u001b[0;34m:\u001b[0m\u001b[0;34m\u001b[0m\u001b[0m\n\u001b[1;32m   3883\u001b[0m             \u001b[0;32mif\u001b[0m \u001b[0mlabels\u001b[0m \u001b[0;32mis\u001b[0m \u001b[0;32mnot\u001b[0m \u001b[0;32mNone\u001b[0m\u001b[0;34m:\u001b[0m\u001b[0;34m\u001b[0m\u001b[0m\n\u001b[0;32m-> 3884\u001b[0;31m                 \u001b[0mobj\u001b[0m \u001b[0;34m=\u001b[0m \u001b[0mobj\u001b[0m\u001b[0;34m.\u001b[0m\u001b[0m_drop_axis\u001b[0m\u001b[0;34m(\u001b[0m\u001b[0mlabels\u001b[0m\u001b[0;34m,\u001b[0m \u001b[0maxis\u001b[0m\u001b[0;34m,\u001b[0m \u001b[0mlevel\u001b[0m\u001b[0;34m=\u001b[0m\u001b[0mlevel\u001b[0m\u001b[0;34m,\u001b[0m \u001b[0merrors\u001b[0m\u001b[0;34m=\u001b[0m\u001b[0merrors\u001b[0m\u001b[0;34m)\u001b[0m\u001b[0;34m\u001b[0m\u001b[0m\n\u001b[0m\u001b[1;32m   3885\u001b[0m \u001b[0;34m\u001b[0m\u001b[0m\n\u001b[1;32m   3886\u001b[0m         \u001b[0;32mif\u001b[0m \u001b[0minplace\u001b[0m\u001b[0;34m:\u001b[0m\u001b[0;34m\u001b[0m\u001b[0m\n",
      "\u001b[0;32m~/.pyenv/versions/3.6.1/lib/python3.6/site-packages/pandas/core/generic.py\u001b[0m in \u001b[0;36m_drop_axis\u001b[0;34m(self, labels, axis, level, errors)\u001b[0m\n\u001b[1;32m   3916\u001b[0m                 \u001b[0mnew_axis\u001b[0m \u001b[0;34m=\u001b[0m \u001b[0maxis\u001b[0m\u001b[0;34m.\u001b[0m\u001b[0mdrop\u001b[0m\u001b[0;34m(\u001b[0m\u001b[0mlabels\u001b[0m\u001b[0;34m,\u001b[0m \u001b[0mlevel\u001b[0m\u001b[0;34m=\u001b[0m\u001b[0mlevel\u001b[0m\u001b[0;34m,\u001b[0m \u001b[0merrors\u001b[0m\u001b[0;34m=\u001b[0m\u001b[0merrors\u001b[0m\u001b[0;34m)\u001b[0m\u001b[0;34m\u001b[0m\u001b[0m\n\u001b[1;32m   3917\u001b[0m             \u001b[0;32melse\u001b[0m\u001b[0;34m:\u001b[0m\u001b[0;34m\u001b[0m\u001b[0m\n\u001b[0;32m-> 3918\u001b[0;31m                 \u001b[0mnew_axis\u001b[0m \u001b[0;34m=\u001b[0m \u001b[0maxis\u001b[0m\u001b[0;34m.\u001b[0m\u001b[0mdrop\u001b[0m\u001b[0;34m(\u001b[0m\u001b[0mlabels\u001b[0m\u001b[0;34m,\u001b[0m \u001b[0merrors\u001b[0m\u001b[0;34m=\u001b[0m\u001b[0merrors\u001b[0m\u001b[0;34m)\u001b[0m\u001b[0;34m\u001b[0m\u001b[0m\n\u001b[0m\u001b[1;32m   3919\u001b[0m             \u001b[0mresult\u001b[0m \u001b[0;34m=\u001b[0m \u001b[0mself\u001b[0m\u001b[0;34m.\u001b[0m\u001b[0mreindex\u001b[0m\u001b[0;34m(\u001b[0m\u001b[0;34m**\u001b[0m\u001b[0;34m{\u001b[0m\u001b[0maxis_name\u001b[0m\u001b[0;34m:\u001b[0m \u001b[0mnew_axis\u001b[0m\u001b[0;34m}\u001b[0m\u001b[0;34m)\u001b[0m\u001b[0;34m\u001b[0m\u001b[0m\n\u001b[1;32m   3920\u001b[0m \u001b[0;34m\u001b[0m\u001b[0m\n",
      "\u001b[0;32m~/.pyenv/versions/3.6.1/lib/python3.6/site-packages/pandas/core/indexes/base.py\u001b[0m in \u001b[0;36mdrop\u001b[0;34m(self, labels, errors)\u001b[0m\n\u001b[1;32m   5276\u001b[0m         \u001b[0;32mif\u001b[0m \u001b[0mmask\u001b[0m\u001b[0;34m.\u001b[0m\u001b[0many\u001b[0m\u001b[0;34m(\u001b[0m\u001b[0;34m)\u001b[0m\u001b[0;34m:\u001b[0m\u001b[0;34m\u001b[0m\u001b[0m\n\u001b[1;32m   5277\u001b[0m             \u001b[0;32mif\u001b[0m \u001b[0merrors\u001b[0m \u001b[0;34m!=\u001b[0m \u001b[0;34m\"ignore\"\u001b[0m\u001b[0;34m:\u001b[0m\u001b[0;34m\u001b[0m\u001b[0m\n\u001b[0;32m-> 5278\u001b[0;31m                 \u001b[0;32mraise\u001b[0m \u001b[0mKeyError\u001b[0m\u001b[0;34m(\u001b[0m\u001b[0;34mf\"{labels[mask]} not found in axis\"\u001b[0m\u001b[0;34m)\u001b[0m\u001b[0;34m\u001b[0m\u001b[0m\n\u001b[0m\u001b[1;32m   5279\u001b[0m             \u001b[0mindexer\u001b[0m \u001b[0;34m=\u001b[0m \u001b[0mindexer\u001b[0m\u001b[0;34m[\u001b[0m\u001b[0;34m~\u001b[0m\u001b[0mmask\u001b[0m\u001b[0;34m]\u001b[0m\u001b[0;34m\u001b[0m\u001b[0m\n\u001b[1;32m   5280\u001b[0m         \u001b[0;32mreturn\u001b[0m \u001b[0mself\u001b[0m\u001b[0;34m.\u001b[0m\u001b[0mdelete\u001b[0m\u001b[0;34m(\u001b[0m\u001b[0mindexer\u001b[0m\u001b[0;34m)\u001b[0m\u001b[0;34m\u001b[0m\u001b[0m\n",
      "\u001b[0;31mKeyError\u001b[0m: \"['income'] not found in axis\""
     ]
    }
   ],
   "source": [
    "train.drop(['income'], axis=1, inplace=True)"
   ]
  },
  {
   "cell_type": "code",
   "execution_count": 50,
   "metadata": {},
   "outputs": [
    {
     "data": {
      "text/plain": [
       "0        1\n",
       "1        1\n",
       "2        1\n",
       "3        1\n",
       "4        1\n",
       "        ..\n",
       "26044    1\n",
       "26045    1\n",
       "26046    1\n",
       "26047    1\n",
       "26048    1\n",
       "Name: income, Length: 26049, dtype: int64"
      ]
     },
     "execution_count": 50,
     "metadata": {},
     "output_type": "execute_result"
    }
   ],
   "source": [
    "target"
   ]
  },
  {
   "cell_type": "code",
   "execution_count": null,
   "metadata": {},
   "outputs": [],
   "source": []
  },
  {
   "cell_type": "code",
   "execution_count": null,
   "metadata": {},
   "outputs": [],
   "source": [
    "\n"
   ]
  },
  {
   "cell_type": "code",
   "execution_count": null,
   "metadata": {},
   "outputs": [],
   "source": []
  }
 ],
 "metadata": {
  "kernelspec": {
   "display_name": "Python 3",
   "language": "python",
   "name": "python3"
  },
  "language_info": {
   "codemirror_mode": {
    "name": "ipython",
    "version": 3
   },
   "file_extension": ".py",
   "mimetype": "text/x-python",
   "name": "python",
   "nbconvert_exporter": "python",
   "pygments_lexer": "ipython3",
   "version": "3.6.1"
  }
 },
 "nbformat": 4,
 "nbformat_minor": 4
}
